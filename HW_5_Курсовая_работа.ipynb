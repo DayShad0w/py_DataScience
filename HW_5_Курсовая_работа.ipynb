{
  "cells": [
    {
      "cell_type": "markdown",
      "metadata": {
        "id": "view-in-github",
        "colab_type": "text"
      },
      "source": [
        "<a href=\"https://colab.research.google.com/github/DayShad0w/py_DataScience/blob/CourseWork/HW_5_%D0%9A%D1%83%D1%80%D1%81%D0%BE%D0%B2%D0%B0%D1%8F_%D1%80%D0%B0%D0%B1%D0%BE%D1%82%D0%B0.ipynb\" target=\"_parent\"><img src=\"https://colab.research.google.com/assets/colab-badge.svg\" alt=\"Open In Colab\"/></a>"
      ]
    },
    {
      "cell_type": "markdown",
      "metadata": {
        "id": "eiLZLn9bsHzz"
      },
      "source": [
        "# Курсовая работа Егорова Юлия"
      ]
    },
    {
      "cell_type": "markdown",
      "metadata": {
        "id": "63cWhNsDsFln"
      },
      "source": [
        "Анализ данных по заработной плате за 2020-2022 годы в области кибербезопасности (в основном US)"
      ]
    },
    {
      "cell_type": "code",
      "execution_count": 504,
      "metadata": {
        "id": "YzpMvmhNsBej"
      },
      "outputs": [],
      "source": [
        "import pandas as pd\n",
        "import numpy as np\n",
        "import matplotlib.pyplot as plt\n",
        "%matplotlib inline\n",
        "import seaborn as sns\n",
        "from sklearn.model_selection import train_test_split"
      ]
    },
    {
      "cell_type": "code",
      "execution_count": 505,
      "metadata": {
        "id": "LBz4zwohAh5K"
      },
      "outputs": [],
      "source": [
        "data = pd.read_csv('salaries_cyber.csv')"
      ]
    },
    {
      "cell_type": "code",
      "execution_count": 506,
      "metadata": {
        "colab": {
          "base_uri": "https://localhost:8080/"
        },
        "id": "Aby5H0HQBUWE",
        "outputId": "91c4dfec-ef2f-4dfb-afe2-5b40a5751919"
      },
      "outputs": [
        {
          "output_type": "execute_result",
          "data": {
            "text/plain": [
              "<bound method NDFrame.describe of       work_year experience_level employment_type  \\\n",
              "0          2022               EN              FT   \n",
              "1          2022               MI              FT   \n",
              "2          2022               MI              FT   \n",
              "3          2022               MI              FT   \n",
              "4          2022               EN              CT   \n",
              "...         ...              ...             ...   \n",
              "1242       2020               MI              FT   \n",
              "1243       2021               SE              FT   \n",
              "1244       2021               SE              FT   \n",
              "1245       2021               MI              FT   \n",
              "1246       2021               MI              FT   \n",
              "\n",
              "                         job_title  salary salary_currency  salary_in_usd  \\\n",
              "0            Cyber Program Manager   63000             USD          63000   \n",
              "1                 Security Analyst   95000             USD          95000   \n",
              "2                 Security Analyst   70000             USD          70000   \n",
              "3              IT Security Analyst  250000             BRL          48853   \n",
              "4           Cyber Security Analyst  120000             USD         120000   \n",
              "...                            ...     ...             ...            ...   \n",
              "1242        Cyber Security Analyst  140000             AUD          96422   \n",
              "1243  Information Security Manager   60000             GBP          82528   \n",
              "1244  Penetration Testing Engineer  126000             USD         126000   \n",
              "1245  Information Security Analyst   42000             GBP          57769   \n",
              "1246   Threat Intelligence Analyst   66310             USD          66310   \n",
              "\n",
              "     employee_residence  remote_ratio company_location company_size  \n",
              "0                    US            50               US            S  \n",
              "1                    US             0               US            M  \n",
              "2                    US             0               US            M  \n",
              "3                    BR            50               BR            L  \n",
              "4                    BW           100               BW            S  \n",
              "...                 ...           ...              ...          ...  \n",
              "1242                 AU            50               AU            M  \n",
              "1243                 GB            50               GB            L  \n",
              "1244                 US           100               US            L  \n",
              "1245                 GB           100               GB            L  \n",
              "1246                 US             0               US            L  \n",
              "\n",
              "[1247 rows x 11 columns]>"
            ]
          },
          "metadata": {},
          "execution_count": 506
        }
      ],
      "source": [
        "data.describe"
      ]
    },
    {
      "cell_type": "code",
      "execution_count": 507,
      "metadata": {
        "colab": {
          "base_uri": "https://localhost:8080/"
        },
        "id": "3_E87UowCMr7",
        "outputId": "2ac923b6-ce3e-461d-e248-f2ddce465d10"
      },
      "outputs": [
        {
          "output_type": "stream",
          "name": "stdout",
          "text": [
            "<class 'pandas.core.frame.DataFrame'>\n",
            "RangeIndex: 1247 entries, 0 to 1246\n",
            "Data columns (total 11 columns):\n",
            " #   Column              Non-Null Count  Dtype \n",
            "---  ------              --------------  ----- \n",
            " 0   work_year           1247 non-null   int64 \n",
            " 1   experience_level    1247 non-null   object\n",
            " 2   employment_type     1247 non-null   object\n",
            " 3   job_title           1247 non-null   object\n",
            " 4   salary              1247 non-null   int64 \n",
            " 5   salary_currency     1247 non-null   object\n",
            " 6   salary_in_usd       1247 non-null   int64 \n",
            " 7   employee_residence  1247 non-null   object\n",
            " 8   remote_ratio        1247 non-null   int64 \n",
            " 9   company_location    1247 non-null   object\n",
            " 10  company_size        1247 non-null   object\n",
            "dtypes: int64(4), object(7)\n",
            "memory usage: 107.3+ KB\n"
          ]
        }
      ],
      "source": [
        "data.info()"
      ]
    },
    {
      "cell_type": "code",
      "execution_count": 508,
      "metadata": {
        "colab": {
          "base_uri": "https://localhost:8080/",
          "height": 363
        },
        "id": "Zzjd_pX3CIE_",
        "outputId": "b2f0e2e5-965c-4fbd-fdca-aa5c5ced074f"
      },
      "outputs": [
        {
          "output_type": "execute_result",
          "data": {
            "text/plain": [
              "   work_year experience_level employment_type  \\\n",
              "0       2022               EN              FT   \n",
              "1       2022               MI              FT   \n",
              "2       2022               MI              FT   \n",
              "3       2022               MI              FT   \n",
              "4       2022               EN              CT   \n",
              "5       2022               EX              FT   \n",
              "6       2022               SE              FT   \n",
              "7       2022               SE              FT   \n",
              "8       2021               MI              FT   \n",
              "9       2022               EX              FT   \n",
              "\n",
              "                                 job_title  salary salary_currency  \\\n",
              "0                    Cyber Program Manager   63000             USD   \n",
              "1                         Security Analyst   95000             USD   \n",
              "2                         Security Analyst   70000             USD   \n",
              "3                      IT Security Analyst  250000             BRL   \n",
              "4                   Cyber Security Analyst  120000             USD   \n",
              "5           Application Security Architect  315000             USD   \n",
              "6                      Security Researcher  220000             USD   \n",
              "7                      Security Researcher  140000             USD   \n",
              "8  Information Security Compliance Analyst   55000             GBP   \n",
              "9  Information Security Compliance Manager  360000             USD   \n",
              "\n",
              "   salary_in_usd employee_residence  remote_ratio company_location  \\\n",
              "0          63000                 US            50               US   \n",
              "1          95000                 US             0               US   \n",
              "2          70000                 US             0               US   \n",
              "3          48853                 BR            50               BR   \n",
              "4         120000                 BW           100               BW   \n",
              "5         315000                 US           100               US   \n",
              "6         220000                 US           100               US   \n",
              "7         140000                 US           100               US   \n",
              "8          75650                 GB            50               GB   \n",
              "9         360000                 TW           100               SG   \n",
              "\n",
              "  company_size  \n",
              "0            S  \n",
              "1            M  \n",
              "2            M  \n",
              "3            L  \n",
              "4            S  \n",
              "5            L  \n",
              "6            M  \n",
              "7            M  \n",
              "8            L  \n",
              "9            L  "
            ],
            "text/html": [
              "\n",
              "  <div id=\"df-a531a120-328b-46d1-9a43-3451b5e3d4c9\">\n",
              "    <div class=\"colab-df-container\">\n",
              "      <div>\n",
              "<style scoped>\n",
              "    .dataframe tbody tr th:only-of-type {\n",
              "        vertical-align: middle;\n",
              "    }\n",
              "\n",
              "    .dataframe tbody tr th {\n",
              "        vertical-align: top;\n",
              "    }\n",
              "\n",
              "    .dataframe thead th {\n",
              "        text-align: right;\n",
              "    }\n",
              "</style>\n",
              "<table border=\"1\" class=\"dataframe\">\n",
              "  <thead>\n",
              "    <tr style=\"text-align: right;\">\n",
              "      <th></th>\n",
              "      <th>work_year</th>\n",
              "      <th>experience_level</th>\n",
              "      <th>employment_type</th>\n",
              "      <th>job_title</th>\n",
              "      <th>salary</th>\n",
              "      <th>salary_currency</th>\n",
              "      <th>salary_in_usd</th>\n",
              "      <th>employee_residence</th>\n",
              "      <th>remote_ratio</th>\n",
              "      <th>company_location</th>\n",
              "      <th>company_size</th>\n",
              "    </tr>\n",
              "  </thead>\n",
              "  <tbody>\n",
              "    <tr>\n",
              "      <th>0</th>\n",
              "      <td>2022</td>\n",
              "      <td>EN</td>\n",
              "      <td>FT</td>\n",
              "      <td>Cyber Program Manager</td>\n",
              "      <td>63000</td>\n",
              "      <td>USD</td>\n",
              "      <td>63000</td>\n",
              "      <td>US</td>\n",
              "      <td>50</td>\n",
              "      <td>US</td>\n",
              "      <td>S</td>\n",
              "    </tr>\n",
              "    <tr>\n",
              "      <th>1</th>\n",
              "      <td>2022</td>\n",
              "      <td>MI</td>\n",
              "      <td>FT</td>\n",
              "      <td>Security Analyst</td>\n",
              "      <td>95000</td>\n",
              "      <td>USD</td>\n",
              "      <td>95000</td>\n",
              "      <td>US</td>\n",
              "      <td>0</td>\n",
              "      <td>US</td>\n",
              "      <td>M</td>\n",
              "    </tr>\n",
              "    <tr>\n",
              "      <th>2</th>\n",
              "      <td>2022</td>\n",
              "      <td>MI</td>\n",
              "      <td>FT</td>\n",
              "      <td>Security Analyst</td>\n",
              "      <td>70000</td>\n",
              "      <td>USD</td>\n",
              "      <td>70000</td>\n",
              "      <td>US</td>\n",
              "      <td>0</td>\n",
              "      <td>US</td>\n",
              "      <td>M</td>\n",
              "    </tr>\n",
              "    <tr>\n",
              "      <th>3</th>\n",
              "      <td>2022</td>\n",
              "      <td>MI</td>\n",
              "      <td>FT</td>\n",
              "      <td>IT Security Analyst</td>\n",
              "      <td>250000</td>\n",
              "      <td>BRL</td>\n",
              "      <td>48853</td>\n",
              "      <td>BR</td>\n",
              "      <td>50</td>\n",
              "      <td>BR</td>\n",
              "      <td>L</td>\n",
              "    </tr>\n",
              "    <tr>\n",
              "      <th>4</th>\n",
              "      <td>2022</td>\n",
              "      <td>EN</td>\n",
              "      <td>CT</td>\n",
              "      <td>Cyber Security Analyst</td>\n",
              "      <td>120000</td>\n",
              "      <td>USD</td>\n",
              "      <td>120000</td>\n",
              "      <td>BW</td>\n",
              "      <td>100</td>\n",
              "      <td>BW</td>\n",
              "      <td>S</td>\n",
              "    </tr>\n",
              "    <tr>\n",
              "      <th>5</th>\n",
              "      <td>2022</td>\n",
              "      <td>EX</td>\n",
              "      <td>FT</td>\n",
              "      <td>Application Security Architect</td>\n",
              "      <td>315000</td>\n",
              "      <td>USD</td>\n",
              "      <td>315000</td>\n",
              "      <td>US</td>\n",
              "      <td>100</td>\n",
              "      <td>US</td>\n",
              "      <td>L</td>\n",
              "    </tr>\n",
              "    <tr>\n",
              "      <th>6</th>\n",
              "      <td>2022</td>\n",
              "      <td>SE</td>\n",
              "      <td>FT</td>\n",
              "      <td>Security Researcher</td>\n",
              "      <td>220000</td>\n",
              "      <td>USD</td>\n",
              "      <td>220000</td>\n",
              "      <td>US</td>\n",
              "      <td>100</td>\n",
              "      <td>US</td>\n",
              "      <td>M</td>\n",
              "    </tr>\n",
              "    <tr>\n",
              "      <th>7</th>\n",
              "      <td>2022</td>\n",
              "      <td>SE</td>\n",
              "      <td>FT</td>\n",
              "      <td>Security Researcher</td>\n",
              "      <td>140000</td>\n",
              "      <td>USD</td>\n",
              "      <td>140000</td>\n",
              "      <td>US</td>\n",
              "      <td>100</td>\n",
              "      <td>US</td>\n",
              "      <td>M</td>\n",
              "    </tr>\n",
              "    <tr>\n",
              "      <th>8</th>\n",
              "      <td>2021</td>\n",
              "      <td>MI</td>\n",
              "      <td>FT</td>\n",
              "      <td>Information Security Compliance Analyst</td>\n",
              "      <td>55000</td>\n",
              "      <td>GBP</td>\n",
              "      <td>75650</td>\n",
              "      <td>GB</td>\n",
              "      <td>50</td>\n",
              "      <td>GB</td>\n",
              "      <td>L</td>\n",
              "    </tr>\n",
              "    <tr>\n",
              "      <th>9</th>\n",
              "      <td>2022</td>\n",
              "      <td>EX</td>\n",
              "      <td>FT</td>\n",
              "      <td>Information Security Compliance Manager</td>\n",
              "      <td>360000</td>\n",
              "      <td>USD</td>\n",
              "      <td>360000</td>\n",
              "      <td>TW</td>\n",
              "      <td>100</td>\n",
              "      <td>SG</td>\n",
              "      <td>L</td>\n",
              "    </tr>\n",
              "  </tbody>\n",
              "</table>\n",
              "</div>\n",
              "      <button class=\"colab-df-convert\" onclick=\"convertToInteractive('df-a531a120-328b-46d1-9a43-3451b5e3d4c9')\"\n",
              "              title=\"Convert this dataframe to an interactive table.\"\n",
              "              style=\"display:none;\">\n",
              "        \n",
              "  <svg xmlns=\"http://www.w3.org/2000/svg\" height=\"24px\"viewBox=\"0 0 24 24\"\n",
              "       width=\"24px\">\n",
              "    <path d=\"M0 0h24v24H0V0z\" fill=\"none\"/>\n",
              "    <path d=\"M18.56 5.44l.94 2.06.94-2.06 2.06-.94-2.06-.94-.94-2.06-.94 2.06-2.06.94zm-11 1L8.5 8.5l.94-2.06 2.06-.94-2.06-.94L8.5 2.5l-.94 2.06-2.06.94zm10 10l.94 2.06.94-2.06 2.06-.94-2.06-.94-.94-2.06-.94 2.06-2.06.94z\"/><path d=\"M17.41 7.96l-1.37-1.37c-.4-.4-.92-.59-1.43-.59-.52 0-1.04.2-1.43.59L10.3 9.45l-7.72 7.72c-.78.78-.78 2.05 0 2.83L4 21.41c.39.39.9.59 1.41.59.51 0 1.02-.2 1.41-.59l7.78-7.78 2.81-2.81c.8-.78.8-2.07 0-2.86zM5.41 20L4 18.59l7.72-7.72 1.47 1.35L5.41 20z\"/>\n",
              "  </svg>\n",
              "      </button>\n",
              "      \n",
              "  <style>\n",
              "    .colab-df-container {\n",
              "      display:flex;\n",
              "      flex-wrap:wrap;\n",
              "      gap: 12px;\n",
              "    }\n",
              "\n",
              "    .colab-df-convert {\n",
              "      background-color: #E8F0FE;\n",
              "      border: none;\n",
              "      border-radius: 50%;\n",
              "      cursor: pointer;\n",
              "      display: none;\n",
              "      fill: #1967D2;\n",
              "      height: 32px;\n",
              "      padding: 0 0 0 0;\n",
              "      width: 32px;\n",
              "    }\n",
              "\n",
              "    .colab-df-convert:hover {\n",
              "      background-color: #E2EBFA;\n",
              "      box-shadow: 0px 1px 2px rgba(60, 64, 67, 0.3), 0px 1px 3px 1px rgba(60, 64, 67, 0.15);\n",
              "      fill: #174EA6;\n",
              "    }\n",
              "\n",
              "    [theme=dark] .colab-df-convert {\n",
              "      background-color: #3B4455;\n",
              "      fill: #D2E3FC;\n",
              "    }\n",
              "\n",
              "    [theme=dark] .colab-df-convert:hover {\n",
              "      background-color: #434B5C;\n",
              "      box-shadow: 0px 1px 3px 1px rgba(0, 0, 0, 0.15);\n",
              "      filter: drop-shadow(0px 1px 2px rgba(0, 0, 0, 0.3));\n",
              "      fill: #FFFFFF;\n",
              "    }\n",
              "  </style>\n",
              "\n",
              "      <script>\n",
              "        const buttonEl =\n",
              "          document.querySelector('#df-a531a120-328b-46d1-9a43-3451b5e3d4c9 button.colab-df-convert');\n",
              "        buttonEl.style.display =\n",
              "          google.colab.kernel.accessAllowed ? 'block' : 'none';\n",
              "\n",
              "        async function convertToInteractive(key) {\n",
              "          const element = document.querySelector('#df-a531a120-328b-46d1-9a43-3451b5e3d4c9');\n",
              "          const dataTable =\n",
              "            await google.colab.kernel.invokeFunction('convertToInteractive',\n",
              "                                                     [key], {});\n",
              "          if (!dataTable) return;\n",
              "\n",
              "          const docLinkHtml = 'Like what you see? Visit the ' +\n",
              "            '<a target=\"_blank\" href=https://colab.research.google.com/notebooks/data_table.ipynb>data table notebook</a>'\n",
              "            + ' to learn more about interactive tables.';\n",
              "          element.innerHTML = '';\n",
              "          dataTable['output_type'] = 'display_data';\n",
              "          await google.colab.output.renderOutput(dataTable, element);\n",
              "          const docLink = document.createElement('div');\n",
              "          docLink.innerHTML = docLinkHtml;\n",
              "          element.appendChild(docLink);\n",
              "        }\n",
              "      </script>\n",
              "    </div>\n",
              "  </div>\n",
              "  "
            ]
          },
          "metadata": {},
          "execution_count": 508
        }
      ],
      "source": [
        "data.head(10)"
      ]
    },
    {
      "cell_type": "code",
      "execution_count": 509,
      "metadata": {
        "id": "uzyHQhWqYHT4"
      },
      "outputs": [],
      "source": [
        "#data['company_location'] = data['company_location'].astype(pd.StringDtype())\n",
        "#data['employee_residence'] = data['employee_residence'].astype(pd.StringDtype())"
      ]
    },
    {
      "cell_type": "code",
      "execution_count": 510,
      "metadata": {
        "colab": {
          "base_uri": "https://localhost:8080/"
        },
        "id": "plP3xdRPYL8e",
        "outputId": "7cea63be-ca0a-4423-f00a-fba69cbb70d3"
      },
      "outputs": [
        {
          "output_type": "execute_result",
          "data": {
            "text/plain": [
              "work_year              int64\n",
              "experience_level      object\n",
              "employment_type       object\n",
              "job_title             object\n",
              "salary                 int64\n",
              "salary_currency       object\n",
              "salary_in_usd          int64\n",
              "employee_residence    object\n",
              "remote_ratio           int64\n",
              "company_location      object\n",
              "company_size          object\n",
              "dtype: object"
            ]
          },
          "metadata": {},
          "execution_count": 510
        }
      ],
      "source": [
        "data.dtypes"
      ]
    },
    {
      "cell_type": "markdown",
      "metadata": {
        "id": "rCR7b1gAliJL"
      },
      "source": [
        "### Анализ данных"
      ]
    },
    {
      "cell_type": "code",
      "execution_count": 511,
      "metadata": {
        "colab": {
          "base_uri": "https://localhost:8080/",
          "height": 424
        },
        "id": "T_FJ87ofU2Ur",
        "outputId": "3a473fa6-7884-4d2c-e9fc-eb87f2802641"
      },
      "outputs": [
        {
          "output_type": "execute_result",
          "data": {
            "text/plain": [
              "      work_year experience_level employment_type  \\\n",
              "0          2022               EN              FT   \n",
              "1          2022               MI              FT   \n",
              "2          2022               MI              FT   \n",
              "3          2022               MI              FT   \n",
              "4          2022               EN              CT   \n",
              "...         ...              ...             ...   \n",
              "1242       2020               MI              FT   \n",
              "1243       2021               SE              FT   \n",
              "1244       2021               SE              FT   \n",
              "1245       2021               MI              FT   \n",
              "1246       2021               MI              FT   \n",
              "\n",
              "                         job_title  salary salary_currency  salary_in_usd  \\\n",
              "0            Cyber Program Manager   63000             USD          63000   \n",
              "1                 Security Analyst   95000             USD          95000   \n",
              "2                 Security Analyst   70000             USD          70000   \n",
              "3              IT Security Analyst  250000             BRL          48853   \n",
              "4           Cyber Security Analyst  120000             USD         120000   \n",
              "...                            ...     ...             ...            ...   \n",
              "1242        Cyber Security Analyst  140000             AUD          96422   \n",
              "1243  Information Security Manager   60000             GBP          82528   \n",
              "1244  Penetration Testing Engineer  126000             USD         126000   \n",
              "1245  Information Security Analyst   42000             GBP          57769   \n",
              "1246   Threat Intelligence Analyst   66310             USD          66310   \n",
              "\n",
              "     employee_residence  remote_ratio company_location company_size  \n",
              "0                    US            50               US            S  \n",
              "1                    US             0               US            M  \n",
              "2                    US             0               US            M  \n",
              "3                    BR            50               BR            L  \n",
              "4                    BW           100               BW            S  \n",
              "...                 ...           ...              ...          ...  \n",
              "1242                 AU            50               AU            M  \n",
              "1243                 GB            50               GB            L  \n",
              "1244                 US           100               US            L  \n",
              "1245                 GB           100               GB            L  \n",
              "1246                 US             0               US            L  \n",
              "\n",
              "[1247 rows x 11 columns]"
            ],
            "text/html": [
              "\n",
              "  <div id=\"df-7be24b84-1abf-4f06-a40f-f034aebfd114\">\n",
              "    <div class=\"colab-df-container\">\n",
              "      <div>\n",
              "<style scoped>\n",
              "    .dataframe tbody tr th:only-of-type {\n",
              "        vertical-align: middle;\n",
              "    }\n",
              "\n",
              "    .dataframe tbody tr th {\n",
              "        vertical-align: top;\n",
              "    }\n",
              "\n",
              "    .dataframe thead th {\n",
              "        text-align: right;\n",
              "    }\n",
              "</style>\n",
              "<table border=\"1\" class=\"dataframe\">\n",
              "  <thead>\n",
              "    <tr style=\"text-align: right;\">\n",
              "      <th></th>\n",
              "      <th>work_year</th>\n",
              "      <th>experience_level</th>\n",
              "      <th>employment_type</th>\n",
              "      <th>job_title</th>\n",
              "      <th>salary</th>\n",
              "      <th>salary_currency</th>\n",
              "      <th>salary_in_usd</th>\n",
              "      <th>employee_residence</th>\n",
              "      <th>remote_ratio</th>\n",
              "      <th>company_location</th>\n",
              "      <th>company_size</th>\n",
              "    </tr>\n",
              "  </thead>\n",
              "  <tbody>\n",
              "    <tr>\n",
              "      <th>0</th>\n",
              "      <td>2022</td>\n",
              "      <td>EN</td>\n",
              "      <td>FT</td>\n",
              "      <td>Cyber Program Manager</td>\n",
              "      <td>63000</td>\n",
              "      <td>USD</td>\n",
              "      <td>63000</td>\n",
              "      <td>US</td>\n",
              "      <td>50</td>\n",
              "      <td>US</td>\n",
              "      <td>S</td>\n",
              "    </tr>\n",
              "    <tr>\n",
              "      <th>1</th>\n",
              "      <td>2022</td>\n",
              "      <td>MI</td>\n",
              "      <td>FT</td>\n",
              "      <td>Security Analyst</td>\n",
              "      <td>95000</td>\n",
              "      <td>USD</td>\n",
              "      <td>95000</td>\n",
              "      <td>US</td>\n",
              "      <td>0</td>\n",
              "      <td>US</td>\n",
              "      <td>M</td>\n",
              "    </tr>\n",
              "    <tr>\n",
              "      <th>2</th>\n",
              "      <td>2022</td>\n",
              "      <td>MI</td>\n",
              "      <td>FT</td>\n",
              "      <td>Security Analyst</td>\n",
              "      <td>70000</td>\n",
              "      <td>USD</td>\n",
              "      <td>70000</td>\n",
              "      <td>US</td>\n",
              "      <td>0</td>\n",
              "      <td>US</td>\n",
              "      <td>M</td>\n",
              "    </tr>\n",
              "    <tr>\n",
              "      <th>3</th>\n",
              "      <td>2022</td>\n",
              "      <td>MI</td>\n",
              "      <td>FT</td>\n",
              "      <td>IT Security Analyst</td>\n",
              "      <td>250000</td>\n",
              "      <td>BRL</td>\n",
              "      <td>48853</td>\n",
              "      <td>BR</td>\n",
              "      <td>50</td>\n",
              "      <td>BR</td>\n",
              "      <td>L</td>\n",
              "    </tr>\n",
              "    <tr>\n",
              "      <th>4</th>\n",
              "      <td>2022</td>\n",
              "      <td>EN</td>\n",
              "      <td>CT</td>\n",
              "      <td>Cyber Security Analyst</td>\n",
              "      <td>120000</td>\n",
              "      <td>USD</td>\n",
              "      <td>120000</td>\n",
              "      <td>BW</td>\n",
              "      <td>100</td>\n",
              "      <td>BW</td>\n",
              "      <td>S</td>\n",
              "    </tr>\n",
              "    <tr>\n",
              "      <th>...</th>\n",
              "      <td>...</td>\n",
              "      <td>...</td>\n",
              "      <td>...</td>\n",
              "      <td>...</td>\n",
              "      <td>...</td>\n",
              "      <td>...</td>\n",
              "      <td>...</td>\n",
              "      <td>...</td>\n",
              "      <td>...</td>\n",
              "      <td>...</td>\n",
              "      <td>...</td>\n",
              "    </tr>\n",
              "    <tr>\n",
              "      <th>1242</th>\n",
              "      <td>2020</td>\n",
              "      <td>MI</td>\n",
              "      <td>FT</td>\n",
              "      <td>Cyber Security Analyst</td>\n",
              "      <td>140000</td>\n",
              "      <td>AUD</td>\n",
              "      <td>96422</td>\n",
              "      <td>AU</td>\n",
              "      <td>50</td>\n",
              "      <td>AU</td>\n",
              "      <td>M</td>\n",
              "    </tr>\n",
              "    <tr>\n",
              "      <th>1243</th>\n",
              "      <td>2021</td>\n",
              "      <td>SE</td>\n",
              "      <td>FT</td>\n",
              "      <td>Information Security Manager</td>\n",
              "      <td>60000</td>\n",
              "      <td>GBP</td>\n",
              "      <td>82528</td>\n",
              "      <td>GB</td>\n",
              "      <td>50</td>\n",
              "      <td>GB</td>\n",
              "      <td>L</td>\n",
              "    </tr>\n",
              "    <tr>\n",
              "      <th>1244</th>\n",
              "      <td>2021</td>\n",
              "      <td>SE</td>\n",
              "      <td>FT</td>\n",
              "      <td>Penetration Testing Engineer</td>\n",
              "      <td>126000</td>\n",
              "      <td>USD</td>\n",
              "      <td>126000</td>\n",
              "      <td>US</td>\n",
              "      <td>100</td>\n",
              "      <td>US</td>\n",
              "      <td>L</td>\n",
              "    </tr>\n",
              "    <tr>\n",
              "      <th>1245</th>\n",
              "      <td>2021</td>\n",
              "      <td>MI</td>\n",
              "      <td>FT</td>\n",
              "      <td>Information Security Analyst</td>\n",
              "      <td>42000</td>\n",
              "      <td>GBP</td>\n",
              "      <td>57769</td>\n",
              "      <td>GB</td>\n",
              "      <td>100</td>\n",
              "      <td>GB</td>\n",
              "      <td>L</td>\n",
              "    </tr>\n",
              "    <tr>\n",
              "      <th>1246</th>\n",
              "      <td>2021</td>\n",
              "      <td>MI</td>\n",
              "      <td>FT</td>\n",
              "      <td>Threat Intelligence Analyst</td>\n",
              "      <td>66310</td>\n",
              "      <td>USD</td>\n",
              "      <td>66310</td>\n",
              "      <td>US</td>\n",
              "      <td>0</td>\n",
              "      <td>US</td>\n",
              "      <td>L</td>\n",
              "    </tr>\n",
              "  </tbody>\n",
              "</table>\n",
              "<p>1247 rows × 11 columns</p>\n",
              "</div>\n",
              "      <button class=\"colab-df-convert\" onclick=\"convertToInteractive('df-7be24b84-1abf-4f06-a40f-f034aebfd114')\"\n",
              "              title=\"Convert this dataframe to an interactive table.\"\n",
              "              style=\"display:none;\">\n",
              "        \n",
              "  <svg xmlns=\"http://www.w3.org/2000/svg\" height=\"24px\"viewBox=\"0 0 24 24\"\n",
              "       width=\"24px\">\n",
              "    <path d=\"M0 0h24v24H0V0z\" fill=\"none\"/>\n",
              "    <path d=\"M18.56 5.44l.94 2.06.94-2.06 2.06-.94-2.06-.94-.94-2.06-.94 2.06-2.06.94zm-11 1L8.5 8.5l.94-2.06 2.06-.94-2.06-.94L8.5 2.5l-.94 2.06-2.06.94zm10 10l.94 2.06.94-2.06 2.06-.94-2.06-.94-.94-2.06-.94 2.06-2.06.94z\"/><path d=\"M17.41 7.96l-1.37-1.37c-.4-.4-.92-.59-1.43-.59-.52 0-1.04.2-1.43.59L10.3 9.45l-7.72 7.72c-.78.78-.78 2.05 0 2.83L4 21.41c.39.39.9.59 1.41.59.51 0 1.02-.2 1.41-.59l7.78-7.78 2.81-2.81c.8-.78.8-2.07 0-2.86zM5.41 20L4 18.59l7.72-7.72 1.47 1.35L5.41 20z\"/>\n",
              "  </svg>\n",
              "      </button>\n",
              "      \n",
              "  <style>\n",
              "    .colab-df-container {\n",
              "      display:flex;\n",
              "      flex-wrap:wrap;\n",
              "      gap: 12px;\n",
              "    }\n",
              "\n",
              "    .colab-df-convert {\n",
              "      background-color: #E8F0FE;\n",
              "      border: none;\n",
              "      border-radius: 50%;\n",
              "      cursor: pointer;\n",
              "      display: none;\n",
              "      fill: #1967D2;\n",
              "      height: 32px;\n",
              "      padding: 0 0 0 0;\n",
              "      width: 32px;\n",
              "    }\n",
              "\n",
              "    .colab-df-convert:hover {\n",
              "      background-color: #E2EBFA;\n",
              "      box-shadow: 0px 1px 2px rgba(60, 64, 67, 0.3), 0px 1px 3px 1px rgba(60, 64, 67, 0.15);\n",
              "      fill: #174EA6;\n",
              "    }\n",
              "\n",
              "    [theme=dark] .colab-df-convert {\n",
              "      background-color: #3B4455;\n",
              "      fill: #D2E3FC;\n",
              "    }\n",
              "\n",
              "    [theme=dark] .colab-df-convert:hover {\n",
              "      background-color: #434B5C;\n",
              "      box-shadow: 0px 1px 3px 1px rgba(0, 0, 0, 0.15);\n",
              "      filter: drop-shadow(0px 1px 2px rgba(0, 0, 0, 0.3));\n",
              "      fill: #FFFFFF;\n",
              "    }\n",
              "  </style>\n",
              "\n",
              "      <script>\n",
              "        const buttonEl =\n",
              "          document.querySelector('#df-7be24b84-1abf-4f06-a40f-f034aebfd114 button.colab-df-convert');\n",
              "        buttonEl.style.display =\n",
              "          google.colab.kernel.accessAllowed ? 'block' : 'none';\n",
              "\n",
              "        async function convertToInteractive(key) {\n",
              "          const element = document.querySelector('#df-7be24b84-1abf-4f06-a40f-f034aebfd114');\n",
              "          const dataTable =\n",
              "            await google.colab.kernel.invokeFunction('convertToInteractive',\n",
              "                                                     [key], {});\n",
              "          if (!dataTable) return;\n",
              "\n",
              "          const docLinkHtml = 'Like what you see? Visit the ' +\n",
              "            '<a target=\"_blank\" href=https://colab.research.google.com/notebooks/data_table.ipynb>data table notebook</a>'\n",
              "            + ' to learn more about interactive tables.';\n",
              "          element.innerHTML = '';\n",
              "          dataTable['output_type'] = 'display_data';\n",
              "          await google.colab.output.renderOutput(dataTable, element);\n",
              "          const docLink = document.createElement('div');\n",
              "          docLink.innerHTML = docLinkHtml;\n",
              "          element.appendChild(docLink);\n",
              "        }\n",
              "      </script>\n",
              "    </div>\n",
              "  </div>\n",
              "  "
            ]
          },
          "metadata": {},
          "execution_count": 511
        }
      ],
      "source": [
        "df = pd.DataFrame(data)\n",
        "df"
      ]
    },
    {
      "cell_type": "code",
      "execution_count": 512,
      "metadata": {
        "colab": {
          "base_uri": "https://localhost:8080/"
        },
        "id": "Gl6MWRziliJM",
        "outputId": "d928fd09-abf9-459c-f721-043bdf7ed100"
      },
      "outputs": [
        {
          "output_type": "execute_result",
          "data": {
            "text/plain": [
              "False"
            ]
          },
          "metadata": {},
          "execution_count": 512
        }
      ],
      "source": [
        "df.isnull().values.any()"
      ]
    },
    {
      "cell_type": "code",
      "execution_count": 513,
      "metadata": {
        "colab": {
          "base_uri": "https://localhost:8080/"
        },
        "id": "fgXIi7VkXX8J",
        "outputId": "6e299407-85da-4a22-c86c-ccfea5199de5"
      },
      "outputs": [
        {
          "output_type": "execute_result",
          "data": {
            "text/plain": [
              "work_year              int64\n",
              "experience_level      object\n",
              "employment_type       object\n",
              "job_title             object\n",
              "salary                 int64\n",
              "salary_currency       object\n",
              "salary_in_usd          int64\n",
              "employee_residence    object\n",
              "remote_ratio           int64\n",
              "company_location      object\n",
              "company_size          object\n",
              "dtype: object"
            ]
          },
          "metadata": {},
          "execution_count": 513
        }
      ],
      "source": [
        "df.dtypes"
      ]
    },
    {
      "cell_type": "markdown",
      "metadata": {
        "id": "m8F5jHDPliJN"
      },
      "source": [
        "В dataset имеем множество текстовых и объектных данных, которые имеет смысл заменить на числовые для анализа. Получим количества значений по каждой строковой и объектной колонке, выберем данные для включения в анализ."
      ]
    },
    {
      "cell_type": "code",
      "execution_count": 514,
      "metadata": {
        "colab": {
          "base_uri": "https://localhost:8080/"
        },
        "id": "3QVC3qGXliJO",
        "outputId": "600964a8-e7a4-4d90-9f03-fd232911cd11"
      },
      "outputs": [
        {
          "output_type": "execute_result",
          "data": {
            "text/plain": [
              "FT    1225\n",
              "CT      11\n",
              "PT       8\n",
              "FL       3\n",
              "Name: employment_type, dtype: int64"
            ]
          },
          "metadata": {},
          "execution_count": 514
        }
      ],
      "source": [
        "df['employment_type'].value_counts()"
      ]
    },
    {
      "cell_type": "code",
      "execution_count": 515,
      "metadata": {
        "scrolled": true,
        "colab": {
          "base_uri": "https://localhost:8080/"
        },
        "id": "iXZbfaoBliJP",
        "outputId": "773220e0-2c25-4ad7-d909-67373f7fbdb1"
      },
      "outputs": [
        {
          "output_type": "execute_result",
          "data": {
            "text/plain": [
              "SE    547\n",
              "MI    412\n",
              "EN    215\n",
              "EX     73\n",
              "Name: experience_level, dtype: int64"
            ]
          },
          "metadata": {},
          "execution_count": 515
        }
      ],
      "source": [
        "df['experience_level'].value_counts()"
      ]
    },
    {
      "cell_type": "markdown",
      "metadata": {
        "id": "1k4XC7ooliJP"
      },
      "source": [
        "Расшифровка значения:\n",
        "1 EN - Entry Level, Junior\n",
        "2 MI - Middle\n",
        "3 SE - Senior\n",
        "4 EX - Executive level, Director"
      ]
    },
    {
      "cell_type": "code",
      "execution_count": 516,
      "metadata": {
        "scrolled": false,
        "colab": {
          "base_uri": "https://localhost:8080/"
        },
        "id": "EoJ8yJKHliJQ",
        "outputId": "8a904c8a-686d-4670-9af2-ca94f140fa2b"
      },
      "outputs": [
        {
          "output_type": "execute_result",
          "data": {
            "text/plain": [
              "Security Engineer                          194\n",
              "Cyber Security Analyst                     133\n",
              "Penetration Tester                          70\n",
              "Information Security Manager                64\n",
              "Cyber Security Engineer                     63\n",
              "                                          ... \n",
              "Principal Application Security Engineer      1\n",
              "Application Security Specialist              1\n",
              "Information Security Compliance Analyst      1\n",
              "Application Security Architect               1\n",
              "Concierge Security Engineer                  1\n",
              "Name: job_title, Length: 87, dtype: int64"
            ]
          },
          "metadata": {},
          "execution_count": 516
        }
      ],
      "source": [
        "df['job_title'].value_counts() "
      ]
    },
    {
      "cell_type": "code",
      "execution_count": 517,
      "metadata": {
        "scrolled": true,
        "colab": {
          "base_uri": "https://localhost:8080/"
        },
        "id": "Y1X8eXKlliJQ",
        "outputId": "be860e98-a0cf-4358-f5dd-054cbcb8ec5c"
      },
      "outputs": [
        {
          "output_type": "execute_result",
          "data": {
            "text/plain": [
              "87"
            ]
          },
          "metadata": {},
          "execution_count": 517
        }
      ],
      "source": [
        "len(df['job_title'].unique())"
      ]
    },
    {
      "cell_type": "code",
      "execution_count": 518,
      "metadata": {
        "scrolled": true,
        "colab": {
          "base_uri": "https://localhost:8080/"
        },
        "id": "22PSXGl-liJR",
        "outputId": "169505f5-9c29-4955-a78d-60e79da8b4a8"
      },
      "outputs": [
        {
          "output_type": "execute_result",
          "data": {
            "text/plain": [
              "US    859\n",
              "GB     57\n",
              "CA     55\n",
              "DE     35\n",
              "IN     30\n",
              "AU     22\n",
              "FR     22\n",
              "NL     13\n",
              "BR     13\n",
              "CH     12\n",
              "ES     12\n",
              "PT     11\n",
              "IT      8\n",
              "IE      6\n",
              "GR      6\n",
              "PL      5\n",
              "NZ      5\n",
              "RO      4\n",
              "SE      4\n",
              "DK      4\n",
              "SI      4\n",
              "AR      4\n",
              "SG      3\n",
              "AF      3\n",
              "AE      3\n",
              "BE      3\n",
              "ZA      3\n",
              "BG      2\n",
              "EE      2\n",
              "AT      2\n",
              "JP      2\n",
              "RU      2\n",
              "HU      2\n",
              "IL      2\n",
              "TW      2\n",
              "DZ      2\n",
              "PK      2\n",
              "IR      1\n",
              "BW      1\n",
              "LT      1\n",
              "SA      1\n",
              "VN      1\n",
              "EG      1\n",
              "LU      1\n",
              "CL      1\n",
              "GH      1\n",
              "AZ      1\n",
              "MX      1\n",
              "KE      1\n",
              "KG      1\n",
              "ID      1\n",
              "CZ      1\n",
              "NO      1\n",
              "NG      1\n",
              "HR      1\n",
              "ET      1\n",
              "CR      1\n",
              "TR      1\n",
              "Name: employee_residence, dtype: int64"
            ]
          },
          "metadata": {},
          "execution_count": 518
        }
      ],
      "source": [
        "df['employee_residence'].value_counts()  "
      ]
    },
    {
      "cell_type": "code",
      "execution_count": 519,
      "metadata": {
        "scrolled": true,
        "colab": {
          "base_uri": "https://localhost:8080/"
        },
        "id": "lPB1r10aliJR",
        "outputId": "0465997c-27b7-4b3b-9a1b-490be980bfea"
      },
      "outputs": [
        {
          "output_type": "execute_result",
          "data": {
            "text/plain": [
              "58"
            ]
          },
          "metadata": {},
          "execution_count": 519
        }
      ],
      "source": [
        "len(df['employee_residence'].unique())"
      ]
    },
    {
      "cell_type": "code",
      "execution_count": 520,
      "metadata": {
        "colab": {
          "base_uri": "https://localhost:8080/"
        },
        "id": "0Vz8-iOqliJR",
        "outputId": "d9b4b1a1-7eb4-4aaf-eec9-87e9baaca794"
      },
      "outputs": [
        {
          "output_type": "execute_result",
          "data": {
            "text/plain": [
              "L    774\n",
              "M    384\n",
              "S     89\n",
              "Name: company_size, dtype: int64"
            ]
          },
          "metadata": {},
          "execution_count": 520
        }
      ],
      "source": [
        "df['company_size'].value_counts() "
      ]
    },
    {
      "cell_type": "markdown",
      "metadata": {
        "id": "1qRWA8HqliJS"
      },
      "source": [
        "Заменим уровень специалиста с текстового на цифровое значение"
      ]
    },
    {
      "cell_type": "code",
      "execution_count": 521,
      "metadata": {
        "id": "3gtUySdHliJS"
      },
      "outputs": [],
      "source": [
        "df['experience_level'] = df['experience_level'].replace({'EN':1, 'MI':2, 'SE':3, 'EX':4})"
      ]
    },
    {
      "cell_type": "markdown",
      "metadata": {
        "id": "_Gj9gW4fliJS"
      },
      "source": [
        "Далее проработаем колонку с типом занятости.\n",
        "PT - part-time\n",
        "FT - full-time\n",
        "CT - contract\n",
        "FL - freelance\n",
        "Значения, полученные при анализе\n",
        "FT 1225 CT 11 PT 8 FL 3\n",
        "Примем, что FL (freelance) это частичная занятость, так как сотрудники редко работают только на одну компанию при таком варианте.\n",
        "Аналогично CT - это работа на полную ставку, но ограниченно во времени (выберем такой вариант).\n",
        "Заменим CT FL на аналогичные значения и пронумеруем FT - 1, PT - 2"
      ]
    },
    {
      "cell_type": "code",
      "execution_count": 522,
      "metadata": {
        "id": "68ClZ7gfliJT"
      },
      "outputs": [],
      "source": [
        "df['employment_type'] = df['employment_type'].replace({'PT':2, 'FT':1, 'CT':1, 'FL':2})"
      ]
    },
    {
      "cell_type": "code",
      "execution_count": 523,
      "metadata": {
        "scrolled": true,
        "colab": {
          "base_uri": "https://localhost:8080/",
          "height": 206
        },
        "id": "OoZIQTnoliJT",
        "outputId": "8343713a-7214-4c78-8b5f-4e3d4dc9e7a2"
      },
      "outputs": [
        {
          "output_type": "execute_result",
          "data": {
            "text/plain": [
              "   work_year  experience_level  employment_type               job_title  \\\n",
              "0       2022                 1                1   Cyber Program Manager   \n",
              "1       2022                 2                1        Security Analyst   \n",
              "2       2022                 2                1        Security Analyst   \n",
              "3       2022                 2                1     IT Security Analyst   \n",
              "4       2022                 1                1  Cyber Security Analyst   \n",
              "\n",
              "   salary salary_currency  salary_in_usd employee_residence  remote_ratio  \\\n",
              "0   63000             USD          63000                 US            50   \n",
              "1   95000             USD          95000                 US             0   \n",
              "2   70000             USD          70000                 US             0   \n",
              "3  250000             BRL          48853                 BR            50   \n",
              "4  120000             USD         120000                 BW           100   \n",
              "\n",
              "  company_location company_size  \n",
              "0               US            S  \n",
              "1               US            M  \n",
              "2               US            M  \n",
              "3               BR            L  \n",
              "4               BW            S  "
            ],
            "text/html": [
              "\n",
              "  <div id=\"df-48a6769a-39d7-4ecc-bfd7-184c4424369e\">\n",
              "    <div class=\"colab-df-container\">\n",
              "      <div>\n",
              "<style scoped>\n",
              "    .dataframe tbody tr th:only-of-type {\n",
              "        vertical-align: middle;\n",
              "    }\n",
              "\n",
              "    .dataframe tbody tr th {\n",
              "        vertical-align: top;\n",
              "    }\n",
              "\n",
              "    .dataframe thead th {\n",
              "        text-align: right;\n",
              "    }\n",
              "</style>\n",
              "<table border=\"1\" class=\"dataframe\">\n",
              "  <thead>\n",
              "    <tr style=\"text-align: right;\">\n",
              "      <th></th>\n",
              "      <th>work_year</th>\n",
              "      <th>experience_level</th>\n",
              "      <th>employment_type</th>\n",
              "      <th>job_title</th>\n",
              "      <th>salary</th>\n",
              "      <th>salary_currency</th>\n",
              "      <th>salary_in_usd</th>\n",
              "      <th>employee_residence</th>\n",
              "      <th>remote_ratio</th>\n",
              "      <th>company_location</th>\n",
              "      <th>company_size</th>\n",
              "    </tr>\n",
              "  </thead>\n",
              "  <tbody>\n",
              "    <tr>\n",
              "      <th>0</th>\n",
              "      <td>2022</td>\n",
              "      <td>1</td>\n",
              "      <td>1</td>\n",
              "      <td>Cyber Program Manager</td>\n",
              "      <td>63000</td>\n",
              "      <td>USD</td>\n",
              "      <td>63000</td>\n",
              "      <td>US</td>\n",
              "      <td>50</td>\n",
              "      <td>US</td>\n",
              "      <td>S</td>\n",
              "    </tr>\n",
              "    <tr>\n",
              "      <th>1</th>\n",
              "      <td>2022</td>\n",
              "      <td>2</td>\n",
              "      <td>1</td>\n",
              "      <td>Security Analyst</td>\n",
              "      <td>95000</td>\n",
              "      <td>USD</td>\n",
              "      <td>95000</td>\n",
              "      <td>US</td>\n",
              "      <td>0</td>\n",
              "      <td>US</td>\n",
              "      <td>M</td>\n",
              "    </tr>\n",
              "    <tr>\n",
              "      <th>2</th>\n",
              "      <td>2022</td>\n",
              "      <td>2</td>\n",
              "      <td>1</td>\n",
              "      <td>Security Analyst</td>\n",
              "      <td>70000</td>\n",
              "      <td>USD</td>\n",
              "      <td>70000</td>\n",
              "      <td>US</td>\n",
              "      <td>0</td>\n",
              "      <td>US</td>\n",
              "      <td>M</td>\n",
              "    </tr>\n",
              "    <tr>\n",
              "      <th>3</th>\n",
              "      <td>2022</td>\n",
              "      <td>2</td>\n",
              "      <td>1</td>\n",
              "      <td>IT Security Analyst</td>\n",
              "      <td>250000</td>\n",
              "      <td>BRL</td>\n",
              "      <td>48853</td>\n",
              "      <td>BR</td>\n",
              "      <td>50</td>\n",
              "      <td>BR</td>\n",
              "      <td>L</td>\n",
              "    </tr>\n",
              "    <tr>\n",
              "      <th>4</th>\n",
              "      <td>2022</td>\n",
              "      <td>1</td>\n",
              "      <td>1</td>\n",
              "      <td>Cyber Security Analyst</td>\n",
              "      <td>120000</td>\n",
              "      <td>USD</td>\n",
              "      <td>120000</td>\n",
              "      <td>BW</td>\n",
              "      <td>100</td>\n",
              "      <td>BW</td>\n",
              "      <td>S</td>\n",
              "    </tr>\n",
              "  </tbody>\n",
              "</table>\n",
              "</div>\n",
              "      <button class=\"colab-df-convert\" onclick=\"convertToInteractive('df-48a6769a-39d7-4ecc-bfd7-184c4424369e')\"\n",
              "              title=\"Convert this dataframe to an interactive table.\"\n",
              "              style=\"display:none;\">\n",
              "        \n",
              "  <svg xmlns=\"http://www.w3.org/2000/svg\" height=\"24px\"viewBox=\"0 0 24 24\"\n",
              "       width=\"24px\">\n",
              "    <path d=\"M0 0h24v24H0V0z\" fill=\"none\"/>\n",
              "    <path d=\"M18.56 5.44l.94 2.06.94-2.06 2.06-.94-2.06-.94-.94-2.06-.94 2.06-2.06.94zm-11 1L8.5 8.5l.94-2.06 2.06-.94-2.06-.94L8.5 2.5l-.94 2.06-2.06.94zm10 10l.94 2.06.94-2.06 2.06-.94-2.06-.94-.94-2.06-.94 2.06-2.06.94z\"/><path d=\"M17.41 7.96l-1.37-1.37c-.4-.4-.92-.59-1.43-.59-.52 0-1.04.2-1.43.59L10.3 9.45l-7.72 7.72c-.78.78-.78 2.05 0 2.83L4 21.41c.39.39.9.59 1.41.59.51 0 1.02-.2 1.41-.59l7.78-7.78 2.81-2.81c.8-.78.8-2.07 0-2.86zM5.41 20L4 18.59l7.72-7.72 1.47 1.35L5.41 20z\"/>\n",
              "  </svg>\n",
              "      </button>\n",
              "      \n",
              "  <style>\n",
              "    .colab-df-container {\n",
              "      display:flex;\n",
              "      flex-wrap:wrap;\n",
              "      gap: 12px;\n",
              "    }\n",
              "\n",
              "    .colab-df-convert {\n",
              "      background-color: #E8F0FE;\n",
              "      border: none;\n",
              "      border-radius: 50%;\n",
              "      cursor: pointer;\n",
              "      display: none;\n",
              "      fill: #1967D2;\n",
              "      height: 32px;\n",
              "      padding: 0 0 0 0;\n",
              "      width: 32px;\n",
              "    }\n",
              "\n",
              "    .colab-df-convert:hover {\n",
              "      background-color: #E2EBFA;\n",
              "      box-shadow: 0px 1px 2px rgba(60, 64, 67, 0.3), 0px 1px 3px 1px rgba(60, 64, 67, 0.15);\n",
              "      fill: #174EA6;\n",
              "    }\n",
              "\n",
              "    [theme=dark] .colab-df-convert {\n",
              "      background-color: #3B4455;\n",
              "      fill: #D2E3FC;\n",
              "    }\n",
              "\n",
              "    [theme=dark] .colab-df-convert:hover {\n",
              "      background-color: #434B5C;\n",
              "      box-shadow: 0px 1px 3px 1px rgba(0, 0, 0, 0.15);\n",
              "      filter: drop-shadow(0px 1px 2px rgba(0, 0, 0, 0.3));\n",
              "      fill: #FFFFFF;\n",
              "    }\n",
              "  </style>\n",
              "\n",
              "      <script>\n",
              "        const buttonEl =\n",
              "          document.querySelector('#df-48a6769a-39d7-4ecc-bfd7-184c4424369e button.colab-df-convert');\n",
              "        buttonEl.style.display =\n",
              "          google.colab.kernel.accessAllowed ? 'block' : 'none';\n",
              "\n",
              "        async function convertToInteractive(key) {\n",
              "          const element = document.querySelector('#df-48a6769a-39d7-4ecc-bfd7-184c4424369e');\n",
              "          const dataTable =\n",
              "            await google.colab.kernel.invokeFunction('convertToInteractive',\n",
              "                                                     [key], {});\n",
              "          if (!dataTable) return;\n",
              "\n",
              "          const docLinkHtml = 'Like what you see? Visit the ' +\n",
              "            '<a target=\"_blank\" href=https://colab.research.google.com/notebooks/data_table.ipynb>data table notebook</a>'\n",
              "            + ' to learn more about interactive tables.';\n",
              "          element.innerHTML = '';\n",
              "          dataTable['output_type'] = 'display_data';\n",
              "          await google.colab.output.renderOutput(dataTable, element);\n",
              "          const docLink = document.createElement('div');\n",
              "          docLink.innerHTML = docLinkHtml;\n",
              "          element.appendChild(docLink);\n",
              "        }\n",
              "      </script>\n",
              "    </div>\n",
              "  </div>\n",
              "  "
            ]
          },
          "metadata": {},
          "execution_count": 523
        }
      ],
      "source": [
        "df.head()"
      ]
    },
    {
      "cell_type": "markdown",
      "metadata": {
        "id": "UyrFih0WliJT"
      },
      "source": [
        "В dataset имеются как неприведенные к единому знаменателю значения заработной платы (в разных валютах), так и приведенные к USD. Проверим, какие локальные валюты указаны в принципе в dataset"
      ]
    },
    {
      "cell_type": "code",
      "execution_count": 524,
      "metadata": {
        "scrolled": true,
        "colab": {
          "base_uri": "https://localhost:8080/"
        },
        "id": "hqYTU3XjliJT",
        "outputId": "61b6e885-a945-4dcb-d6e3-19a66c5f6ece"
      },
      "outputs": [
        {
          "output_type": "execute_result",
          "data": {
            "text/plain": [
              "21"
            ]
          },
          "metadata": {},
          "execution_count": 524
        }
      ],
      "source": [
        "len(df['salary_currency'].unique())"
      ]
    },
    {
      "cell_type": "code",
      "execution_count": 525,
      "metadata": {
        "scrolled": true,
        "colab": {
          "base_uri": "https://localhost:8080/"
        },
        "id": "ENRqLX5EliJT",
        "outputId": "08e0c4c1-09e4-4363-8b3a-cdac0498bbef"
      },
      "outputs": [
        {
          "output_type": "execute_result",
          "data": {
            "text/plain": [
              "USD    934\n",
              "EUR    127\n",
              "GBP     56\n",
              "CAD     39\n",
              "INR     23\n",
              "AUD     18\n",
              "BRL     12\n",
              "CHF      9\n",
              "NZD      5\n",
              "PLN      4\n",
              "DKK      4\n",
              "ZAR      3\n",
              "SEK      3\n",
              "ILS      2\n",
              "SGD      2\n",
              "NOK      1\n",
              "IDR      1\n",
              "MXN      1\n",
              "HUF      1\n",
              "TWD      1\n",
              "RUB      1\n",
              "Name: salary_currency, dtype: int64"
            ]
          },
          "metadata": {},
          "execution_count": 525
        }
      ],
      "source": [
        "df['salary_currency'].value_counts()"
      ]
    },
    {
      "cell_type": "markdown",
      "metadata": {
        "id": "H99dXafUliJU"
      },
      "source": [
        "ТОП-3 валюты либо USD, базовая валюта для моделирования, либо EUR и GBP - валюты, зависящие от курса доллара почти константно (не рассматриваем периодические флуктуации относительных курсов данных валют из-за реакции фондовых рынков). Значение ЗП в региональной валюте можно исключить"
      ]
    },
    {
      "cell_type": "code",
      "execution_count": 526,
      "metadata": {
        "id": "2OFR__YOliJU"
      },
      "outputs": [],
      "source": [
        "del df['salary']\n",
        "del df['salary_currency']"
      ]
    },
    {
      "cell_type": "code",
      "execution_count": 527,
      "metadata": {
        "id": "w-lkqMfdliJU"
      },
      "outputs": [],
      "source": [
        "df['company_size'] = df['company_size'].replace({'S':1, 'M':2, 'L':3})"
      ]
    },
    {
      "cell_type": "code",
      "execution_count": 528,
      "metadata": {
        "id": "5B0Ht4hDliJU"
      },
      "outputs": [],
      "source": [
        "df['remote_ratio'] = df['remote_ratio'].replace({100:3, 50:2, 0:1})"
      ]
    },
    {
      "cell_type": "code",
      "execution_count": 529,
      "metadata": {
        "scrolled": true,
        "colab": {
          "base_uri": "https://localhost:8080/",
          "height": 424
        },
        "id": "4DjK83jLliJU",
        "outputId": "7052ff08-f46e-43a7-a7eb-be450e4e8c01"
      },
      "outputs": [
        {
          "output_type": "execute_result",
          "data": {
            "text/plain": [
              "      work_year  experience_level  employment_type  \\\n",
              "0          2022                 1                1   \n",
              "1          2022                 2                1   \n",
              "2          2022                 2                1   \n",
              "3          2022                 2                1   \n",
              "4          2022                 1                1   \n",
              "...         ...               ...              ...   \n",
              "1242       2020                 2                1   \n",
              "1243       2021                 3                1   \n",
              "1244       2021                 3                1   \n",
              "1245       2021                 2                1   \n",
              "1246       2021                 2                1   \n",
              "\n",
              "                         job_title  salary_in_usd employee_residence  \\\n",
              "0            Cyber Program Manager          63000                 US   \n",
              "1                 Security Analyst          95000                 US   \n",
              "2                 Security Analyst          70000                 US   \n",
              "3              IT Security Analyst          48853                 BR   \n",
              "4           Cyber Security Analyst         120000                 BW   \n",
              "...                            ...            ...                ...   \n",
              "1242        Cyber Security Analyst          96422                 AU   \n",
              "1243  Information Security Manager          82528                 GB   \n",
              "1244  Penetration Testing Engineer         126000                 US   \n",
              "1245  Information Security Analyst          57769                 GB   \n",
              "1246   Threat Intelligence Analyst          66310                 US   \n",
              "\n",
              "      remote_ratio company_location  company_size  \n",
              "0                2               US             1  \n",
              "1                1               US             2  \n",
              "2                1               US             2  \n",
              "3                2               BR             3  \n",
              "4                3               BW             1  \n",
              "...            ...              ...           ...  \n",
              "1242             2               AU             2  \n",
              "1243             2               GB             3  \n",
              "1244             3               US             3  \n",
              "1245             3               GB             3  \n",
              "1246             1               US             3  \n",
              "\n",
              "[1247 rows x 9 columns]"
            ],
            "text/html": [
              "\n",
              "  <div id=\"df-11e7753f-31bd-435a-9728-aa3e8365d219\">\n",
              "    <div class=\"colab-df-container\">\n",
              "      <div>\n",
              "<style scoped>\n",
              "    .dataframe tbody tr th:only-of-type {\n",
              "        vertical-align: middle;\n",
              "    }\n",
              "\n",
              "    .dataframe tbody tr th {\n",
              "        vertical-align: top;\n",
              "    }\n",
              "\n",
              "    .dataframe thead th {\n",
              "        text-align: right;\n",
              "    }\n",
              "</style>\n",
              "<table border=\"1\" class=\"dataframe\">\n",
              "  <thead>\n",
              "    <tr style=\"text-align: right;\">\n",
              "      <th></th>\n",
              "      <th>work_year</th>\n",
              "      <th>experience_level</th>\n",
              "      <th>employment_type</th>\n",
              "      <th>job_title</th>\n",
              "      <th>salary_in_usd</th>\n",
              "      <th>employee_residence</th>\n",
              "      <th>remote_ratio</th>\n",
              "      <th>company_location</th>\n",
              "      <th>company_size</th>\n",
              "    </tr>\n",
              "  </thead>\n",
              "  <tbody>\n",
              "    <tr>\n",
              "      <th>0</th>\n",
              "      <td>2022</td>\n",
              "      <td>1</td>\n",
              "      <td>1</td>\n",
              "      <td>Cyber Program Manager</td>\n",
              "      <td>63000</td>\n",
              "      <td>US</td>\n",
              "      <td>2</td>\n",
              "      <td>US</td>\n",
              "      <td>1</td>\n",
              "    </tr>\n",
              "    <tr>\n",
              "      <th>1</th>\n",
              "      <td>2022</td>\n",
              "      <td>2</td>\n",
              "      <td>1</td>\n",
              "      <td>Security Analyst</td>\n",
              "      <td>95000</td>\n",
              "      <td>US</td>\n",
              "      <td>1</td>\n",
              "      <td>US</td>\n",
              "      <td>2</td>\n",
              "    </tr>\n",
              "    <tr>\n",
              "      <th>2</th>\n",
              "      <td>2022</td>\n",
              "      <td>2</td>\n",
              "      <td>1</td>\n",
              "      <td>Security Analyst</td>\n",
              "      <td>70000</td>\n",
              "      <td>US</td>\n",
              "      <td>1</td>\n",
              "      <td>US</td>\n",
              "      <td>2</td>\n",
              "    </tr>\n",
              "    <tr>\n",
              "      <th>3</th>\n",
              "      <td>2022</td>\n",
              "      <td>2</td>\n",
              "      <td>1</td>\n",
              "      <td>IT Security Analyst</td>\n",
              "      <td>48853</td>\n",
              "      <td>BR</td>\n",
              "      <td>2</td>\n",
              "      <td>BR</td>\n",
              "      <td>3</td>\n",
              "    </tr>\n",
              "    <tr>\n",
              "      <th>4</th>\n",
              "      <td>2022</td>\n",
              "      <td>1</td>\n",
              "      <td>1</td>\n",
              "      <td>Cyber Security Analyst</td>\n",
              "      <td>120000</td>\n",
              "      <td>BW</td>\n",
              "      <td>3</td>\n",
              "      <td>BW</td>\n",
              "      <td>1</td>\n",
              "    </tr>\n",
              "    <tr>\n",
              "      <th>...</th>\n",
              "      <td>...</td>\n",
              "      <td>...</td>\n",
              "      <td>...</td>\n",
              "      <td>...</td>\n",
              "      <td>...</td>\n",
              "      <td>...</td>\n",
              "      <td>...</td>\n",
              "      <td>...</td>\n",
              "      <td>...</td>\n",
              "    </tr>\n",
              "    <tr>\n",
              "      <th>1242</th>\n",
              "      <td>2020</td>\n",
              "      <td>2</td>\n",
              "      <td>1</td>\n",
              "      <td>Cyber Security Analyst</td>\n",
              "      <td>96422</td>\n",
              "      <td>AU</td>\n",
              "      <td>2</td>\n",
              "      <td>AU</td>\n",
              "      <td>2</td>\n",
              "    </tr>\n",
              "    <tr>\n",
              "      <th>1243</th>\n",
              "      <td>2021</td>\n",
              "      <td>3</td>\n",
              "      <td>1</td>\n",
              "      <td>Information Security Manager</td>\n",
              "      <td>82528</td>\n",
              "      <td>GB</td>\n",
              "      <td>2</td>\n",
              "      <td>GB</td>\n",
              "      <td>3</td>\n",
              "    </tr>\n",
              "    <tr>\n",
              "      <th>1244</th>\n",
              "      <td>2021</td>\n",
              "      <td>3</td>\n",
              "      <td>1</td>\n",
              "      <td>Penetration Testing Engineer</td>\n",
              "      <td>126000</td>\n",
              "      <td>US</td>\n",
              "      <td>3</td>\n",
              "      <td>US</td>\n",
              "      <td>3</td>\n",
              "    </tr>\n",
              "    <tr>\n",
              "      <th>1245</th>\n",
              "      <td>2021</td>\n",
              "      <td>2</td>\n",
              "      <td>1</td>\n",
              "      <td>Information Security Analyst</td>\n",
              "      <td>57769</td>\n",
              "      <td>GB</td>\n",
              "      <td>3</td>\n",
              "      <td>GB</td>\n",
              "      <td>3</td>\n",
              "    </tr>\n",
              "    <tr>\n",
              "      <th>1246</th>\n",
              "      <td>2021</td>\n",
              "      <td>2</td>\n",
              "      <td>1</td>\n",
              "      <td>Threat Intelligence Analyst</td>\n",
              "      <td>66310</td>\n",
              "      <td>US</td>\n",
              "      <td>1</td>\n",
              "      <td>US</td>\n",
              "      <td>3</td>\n",
              "    </tr>\n",
              "  </tbody>\n",
              "</table>\n",
              "<p>1247 rows × 9 columns</p>\n",
              "</div>\n",
              "      <button class=\"colab-df-convert\" onclick=\"convertToInteractive('df-11e7753f-31bd-435a-9728-aa3e8365d219')\"\n",
              "              title=\"Convert this dataframe to an interactive table.\"\n",
              "              style=\"display:none;\">\n",
              "        \n",
              "  <svg xmlns=\"http://www.w3.org/2000/svg\" height=\"24px\"viewBox=\"0 0 24 24\"\n",
              "       width=\"24px\">\n",
              "    <path d=\"M0 0h24v24H0V0z\" fill=\"none\"/>\n",
              "    <path d=\"M18.56 5.44l.94 2.06.94-2.06 2.06-.94-2.06-.94-.94-2.06-.94 2.06-2.06.94zm-11 1L8.5 8.5l.94-2.06 2.06-.94-2.06-.94L8.5 2.5l-.94 2.06-2.06.94zm10 10l.94 2.06.94-2.06 2.06-.94-2.06-.94-.94-2.06-.94 2.06-2.06.94z\"/><path d=\"M17.41 7.96l-1.37-1.37c-.4-.4-.92-.59-1.43-.59-.52 0-1.04.2-1.43.59L10.3 9.45l-7.72 7.72c-.78.78-.78 2.05 0 2.83L4 21.41c.39.39.9.59 1.41.59.51 0 1.02-.2 1.41-.59l7.78-7.78 2.81-2.81c.8-.78.8-2.07 0-2.86zM5.41 20L4 18.59l7.72-7.72 1.47 1.35L5.41 20z\"/>\n",
              "  </svg>\n",
              "      </button>\n",
              "      \n",
              "  <style>\n",
              "    .colab-df-container {\n",
              "      display:flex;\n",
              "      flex-wrap:wrap;\n",
              "      gap: 12px;\n",
              "    }\n",
              "\n",
              "    .colab-df-convert {\n",
              "      background-color: #E8F0FE;\n",
              "      border: none;\n",
              "      border-radius: 50%;\n",
              "      cursor: pointer;\n",
              "      display: none;\n",
              "      fill: #1967D2;\n",
              "      height: 32px;\n",
              "      padding: 0 0 0 0;\n",
              "      width: 32px;\n",
              "    }\n",
              "\n",
              "    .colab-df-convert:hover {\n",
              "      background-color: #E2EBFA;\n",
              "      box-shadow: 0px 1px 2px rgba(60, 64, 67, 0.3), 0px 1px 3px 1px rgba(60, 64, 67, 0.15);\n",
              "      fill: #174EA6;\n",
              "    }\n",
              "\n",
              "    [theme=dark] .colab-df-convert {\n",
              "      background-color: #3B4455;\n",
              "      fill: #D2E3FC;\n",
              "    }\n",
              "\n",
              "    [theme=dark] .colab-df-convert:hover {\n",
              "      background-color: #434B5C;\n",
              "      box-shadow: 0px 1px 3px 1px rgba(0, 0, 0, 0.15);\n",
              "      filter: drop-shadow(0px 1px 2px rgba(0, 0, 0, 0.3));\n",
              "      fill: #FFFFFF;\n",
              "    }\n",
              "  </style>\n",
              "\n",
              "      <script>\n",
              "        const buttonEl =\n",
              "          document.querySelector('#df-11e7753f-31bd-435a-9728-aa3e8365d219 button.colab-df-convert');\n",
              "        buttonEl.style.display =\n",
              "          google.colab.kernel.accessAllowed ? 'block' : 'none';\n",
              "\n",
              "        async function convertToInteractive(key) {\n",
              "          const element = document.querySelector('#df-11e7753f-31bd-435a-9728-aa3e8365d219');\n",
              "          const dataTable =\n",
              "            await google.colab.kernel.invokeFunction('convertToInteractive',\n",
              "                                                     [key], {});\n",
              "          if (!dataTable) return;\n",
              "\n",
              "          const docLinkHtml = 'Like what you see? Visit the ' +\n",
              "            '<a target=\"_blank\" href=https://colab.research.google.com/notebooks/data_table.ipynb>data table notebook</a>'\n",
              "            + ' to learn more about interactive tables.';\n",
              "          element.innerHTML = '';\n",
              "          dataTable['output_type'] = 'display_data';\n",
              "          await google.colab.output.renderOutput(dataTable, element);\n",
              "          const docLink = document.createElement('div');\n",
              "          docLink.innerHTML = docLinkHtml;\n",
              "          element.appendChild(docLink);\n",
              "        }\n",
              "      </script>\n",
              "    </div>\n",
              "  </div>\n",
              "  "
            ]
          },
          "metadata": {},
          "execution_count": 529
        }
      ],
      "source": [
        "df"
      ]
    },
    {
      "cell_type": "code",
      "execution_count": 530,
      "metadata": {
        "colab": {
          "base_uri": "https://localhost:8080/"
        },
        "id": "FTeD3RnvliJV",
        "outputId": "05931d94-d6c2-4c4a-9e72-24614dfdb37a"
      },
      "outputs": [
        {
          "output_type": "execute_result",
          "data": {
            "text/plain": [
              "salary_in_usd       1.000000\n",
              "experience_level    0.508281\n",
              "work_year           0.184246\n",
              "remote_ratio        0.174523\n",
              "employment_type     0.080844\n",
              "company_size        0.069485\n",
              "Name: salary_in_usd, dtype: float64"
            ]
          },
          "metadata": {},
          "execution_count": 530
        }
      ],
      "source": [
        "abs(df.corr()['salary_in_usd']).sort_values(ascending=False)"
      ]
    },
    {
      "cell_type": "code",
      "execution_count": 531,
      "metadata": {
        "colab": {
          "base_uri": "https://localhost:8080/",
          "height": 386
        },
        "id": "MPNaKg7RliJV",
        "outputId": "e2693bf7-b73b-4e20-ff06-3a8ed07d73b6"
      },
      "outputs": [
        {
          "output_type": "display_data",
          "data": {
            "text/plain": [
              "<Figure size 864x288 with 0 Axes>"
            ]
          },
          "metadata": {}
        },
        {
          "output_type": "display_data",
          "data": {
            "text/plain": [
              "<Figure size 360x360 with 1 Axes>"
            ],
            "image/png": "[encoded data removed]"
          },
          "metadata": {
            "needs_background": "light"
          }
        }
      ],
      "source": [
        "def _distplot(columns):\n",
        "    for col in columns:\n",
        "        plt.figure(figsize=(12,4))\n",
        "        sns.displot(df[col])\n",
        "        plt.show()\n",
        "_distplot(['salary_in_usd'])"
      ]
    },
    {
      "cell_type": "markdown",
      "metadata": {
        "id": "USNH_pd4liJV"
      },
      "source": [
        "По графику видим наличие высоких заработных плат при превышении суммы примерно в 300 тысяч. Данные являются выбросами и от них необходимо избавиться"
      ]
    },
    {
      "cell_type": "code",
      "execution_count": 532,
      "metadata": {
        "colab": {
          "base_uri": "https://localhost:8080/"
        },
        "id": "SQ-BPpM3liJV",
        "outputId": "0bf34a5f-0c72-48e4-a91b-c007451879ad"
      },
      "outputs": [
        {
          "output_type": "execute_result",
          "data": {
            "text/plain": [
              "[910991,\n",
              " 600000,\n",
              " 600000,\n",
              " 500000,\n",
              " 456621,\n",
              " 450000,\n",
              " 410000,\n",
              " 400000,\n",
              " 375000,\n",
              " 360000,\n",
              " 360000,\n",
              " 325000,\n",
              " 320000,\n",
              " 320000,\n",
              " 315000,\n",
              " 310000,\n",
              " 310000,\n",
              " 305000,\n",
              " 300000,\n",
              " 300000]"
            ]
          },
          "metadata": {},
          "execution_count": 532
        }
      ],
      "source": [
        "from heapq import nlargest\n",
        "res = nlargest(20, df['salary_in_usd'])\n",
        "res"
      ]
    },
    {
      "cell_type": "code",
      "execution_count": 533,
      "metadata": {
        "colab": {
          "base_uri": "https://localhost:8080/"
        },
        "id": "FjQbxRg1liJW",
        "outputId": "646b2caf-1f9b-4a83-9c01-529ab06547e3"
      },
      "outputs": [
        {
          "output_type": "execute_result",
          "data": {
            "text/plain": [
              "2000"
            ]
          },
          "metadata": {},
          "execution_count": 533
        }
      ],
      "source": [
        "mn = df['salary_in_usd'].min()\n",
        "mn"
      ]
    },
    {
      "cell_type": "code",
      "execution_count": 534,
      "metadata": {
        "id": "lDtRpPsVliJW"
      },
      "outputs": [],
      "source": [
        "line = df.quantile(.97)\n",
        "df1 = df[(df['salary_in_usd']<line['salary_in_usd'])]"
      ]
    },
    {
      "cell_type": "code",
      "execution_count": 535,
      "metadata": {
        "colab": {
          "base_uri": "https://localhost:8080/"
        },
        "id": "iid36a-wliJW",
        "outputId": "fdde2765-174c-4ae8-9b33-766e3bba75dd"
      },
      "outputs": [
        {
          "output_type": "execute_result",
          "data": {
            "text/plain": [
              "(1209, 9)"
            ]
          },
          "metadata": {},
          "execution_count": 535
        }
      ],
      "source": [
        "df1.shape"
      ]
    },
    {
      "cell_type": "code",
      "execution_count": 536,
      "metadata": {
        "colab": {
          "base_uri": "https://localhost:8080/",
          "height": 424
        },
        "id": "MkOPc6w4liJW",
        "outputId": "709b0566-83f4-400f-a577-f9f333bb350f"
      },
      "outputs": [
        {
          "output_type": "execute_result",
          "data": {
            "text/plain": [
              "      work_year  experience_level  employment_type  \\\n",
              "0          2022                 1                1   \n",
              "1          2022                 2                1   \n",
              "2          2022                 2                1   \n",
              "3          2022                 2                1   \n",
              "4          2022                 1                1   \n",
              "...         ...               ...              ...   \n",
              "1242       2020                 2                1   \n",
              "1243       2021                 3                1   \n",
              "1244       2021                 3                1   \n",
              "1245       2021                 2                1   \n",
              "1246       2021                 2                1   \n",
              "\n",
              "                         job_title  salary_in_usd employee_residence  \\\n",
              "0            Cyber Program Manager          63000                 US   \n",
              "1                 Security Analyst          95000                 US   \n",
              "2                 Security Analyst          70000                 US   \n",
              "3              IT Security Analyst          48853                 BR   \n",
              "4           Cyber Security Analyst         120000                 BW   \n",
              "...                            ...            ...                ...   \n",
              "1242        Cyber Security Analyst          96422                 AU   \n",
              "1243  Information Security Manager          82528                 GB   \n",
              "1244  Penetration Testing Engineer         126000                 US   \n",
              "1245  Information Security Analyst          57769                 GB   \n",
              "1246   Threat Intelligence Analyst          66310                 US   \n",
              "\n",
              "      remote_ratio company_location  company_size  \n",
              "0                2               US             1  \n",
              "1                1               US             2  \n",
              "2                1               US             2  \n",
              "3                2               BR             3  \n",
              "4                3               BW             1  \n",
              "...            ...              ...           ...  \n",
              "1242             2               AU             2  \n",
              "1243             2               GB             3  \n",
              "1244             3               US             3  \n",
              "1245             3               GB             3  \n",
              "1246             1               US             3  \n",
              "\n",
              "[1209 rows x 9 columns]"
            ],
            "text/html": [
              "\n",
              "  <div id=\"df-942366f2-2bb1-4401-b903-fe0523333fdb\">\n",
              "    <div class=\"colab-df-container\">\n",
              "      <div>\n",
              "<style scoped>\n",
              "    .dataframe tbody tr th:only-of-type {\n",
              "        vertical-align: middle;\n",
              "    }\n",
              "\n",
              "    .dataframe tbody tr th {\n",
              "        vertical-align: top;\n",
              "    }\n",
              "\n",
              "    .dataframe thead th {\n",
              "        text-align: right;\n",
              "    }\n",
              "</style>\n",
              "<table border=\"1\" class=\"dataframe\">\n",
              "  <thead>\n",
              "    <tr style=\"text-align: right;\">\n",
              "      <th></th>\n",
              "      <th>work_year</th>\n",
              "      <th>experience_level</th>\n",
              "      <th>employment_type</th>\n",
              "      <th>job_title</th>\n",
              "      <th>salary_in_usd</th>\n",
              "      <th>employee_residence</th>\n",
              "      <th>remote_ratio</th>\n",
              "      <th>company_location</th>\n",
              "      <th>company_size</th>\n",
              "    </tr>\n",
              "  </thead>\n",
              "  <tbody>\n",
              "    <tr>\n",
              "      <th>0</th>\n",
              "      <td>2022</td>\n",
              "      <td>1</td>\n",
              "      <td>1</td>\n",
              "      <td>Cyber Program Manager</td>\n",
              "      <td>63000</td>\n",
              "      <td>US</td>\n",
              "      <td>2</td>\n",
              "      <td>US</td>\n",
              "      <td>1</td>\n",
              "    </tr>\n",
              "    <tr>\n",
              "      <th>1</th>\n",
              "      <td>2022</td>\n",
              "      <td>2</td>\n",
              "      <td>1</td>\n",
              "      <td>Security Analyst</td>\n",
              "      <td>95000</td>\n",
              "      <td>US</td>\n",
              "      <td>1</td>\n",
              "      <td>US</td>\n",
              "      <td>2</td>\n",
              "    </tr>\n",
              "    <tr>\n",
              "      <th>2</th>\n",
              "      <td>2022</td>\n",
              "      <td>2</td>\n",
              "      <td>1</td>\n",
              "      <td>Security Analyst</td>\n",
              "      <td>70000</td>\n",
              "      <td>US</td>\n",
              "      <td>1</td>\n",
              "      <td>US</td>\n",
              "      <td>2</td>\n",
              "    </tr>\n",
              "    <tr>\n",
              "      <th>3</th>\n",
              "      <td>2022</td>\n",
              "      <td>2</td>\n",
              "      <td>1</td>\n",
              "      <td>IT Security Analyst</td>\n",
              "      <td>48853</td>\n",
              "      <td>BR</td>\n",
              "      <td>2</td>\n",
              "      <td>BR</td>\n",
              "      <td>3</td>\n",
              "    </tr>\n",
              "    <tr>\n",
              "      <th>4</th>\n",
              "      <td>2022</td>\n",
              "      <td>1</td>\n",
              "      <td>1</td>\n",
              "      <td>Cyber Security Analyst</td>\n",
              "      <td>120000</td>\n",
              "      <td>BW</td>\n",
              "      <td>3</td>\n",
              "      <td>BW</td>\n",
              "      <td>1</td>\n",
              "    </tr>\n",
              "    <tr>\n",
              "      <th>...</th>\n",
              "      <td>...</td>\n",
              "      <td>...</td>\n",
              "      <td>...</td>\n",
              "      <td>...</td>\n",
              "      <td>...</td>\n",
              "      <td>...</td>\n",
              "      <td>...</td>\n",
              "      <td>...</td>\n",
              "      <td>...</td>\n",
              "    </tr>\n",
              "    <tr>\n",
              "      <th>1242</th>\n",
              "      <td>2020</td>\n",
              "      <td>2</td>\n",
              "      <td>1</td>\n",
              "      <td>Cyber Security Analyst</td>\n",
              "      <td>96422</td>\n",
              "      <td>AU</td>\n",
              "      <td>2</td>\n",
              "      <td>AU</td>\n",
              "      <td>2</td>\n",
              "    </tr>\n",
              "    <tr>\n",
              "      <th>1243</th>\n",
              "      <td>2021</td>\n",
              "      <td>3</td>\n",
              "      <td>1</td>\n",
              "      <td>Information Security Manager</td>\n",
              "      <td>82528</td>\n",
              "      <td>GB</td>\n",
              "      <td>2</td>\n",
              "      <td>GB</td>\n",
              "      <td>3</td>\n",
              "    </tr>\n",
              "    <tr>\n",
              "      <th>1244</th>\n",
              "      <td>2021</td>\n",
              "      <td>3</td>\n",
              "      <td>1</td>\n",
              "      <td>Penetration Testing Engineer</td>\n",
              "      <td>126000</td>\n",
              "      <td>US</td>\n",
              "      <td>3</td>\n",
              "      <td>US</td>\n",
              "      <td>3</td>\n",
              "    </tr>\n",
              "    <tr>\n",
              "      <th>1245</th>\n",
              "      <td>2021</td>\n",
              "      <td>2</td>\n",
              "      <td>1</td>\n",
              "      <td>Information Security Analyst</td>\n",
              "      <td>57769</td>\n",
              "      <td>GB</td>\n",
              "      <td>3</td>\n",
              "      <td>GB</td>\n",
              "      <td>3</td>\n",
              "    </tr>\n",
              "    <tr>\n",
              "      <th>1246</th>\n",
              "      <td>2021</td>\n",
              "      <td>2</td>\n",
              "      <td>1</td>\n",
              "      <td>Threat Intelligence Analyst</td>\n",
              "      <td>66310</td>\n",
              "      <td>US</td>\n",
              "      <td>1</td>\n",
              "      <td>US</td>\n",
              "      <td>3</td>\n",
              "    </tr>\n",
              "  </tbody>\n",
              "</table>\n",
              "<p>1209 rows × 9 columns</p>\n",
              "</div>\n",
              "      <button class=\"colab-df-convert\" onclick=\"convertToInteractive('df-942366f2-2bb1-4401-b903-fe0523333fdb')\"\n",
              "              title=\"Convert this dataframe to an interactive table.\"\n",
              "              style=\"display:none;\">\n",
              "        \n",
              "  <svg xmlns=\"http://www.w3.org/2000/svg\" height=\"24px\"viewBox=\"0 0 24 24\"\n",
              "       width=\"24px\">\n",
              "    <path d=\"M0 0h24v24H0V0z\" fill=\"none\"/>\n",
              "    <path d=\"M18.56 5.44l.94 2.06.94-2.06 2.06-.94-2.06-.94-.94-2.06-.94 2.06-2.06.94zm-11 1L8.5 8.5l.94-2.06 2.06-.94-2.06-.94L8.5 2.5l-.94 2.06-2.06.94zm10 10l.94 2.06.94-2.06 2.06-.94-2.06-.94-.94-2.06-.94 2.06-2.06.94z\"/><path d=\"M17.41 7.96l-1.37-1.37c-.4-.4-.92-.59-1.43-.59-.52 0-1.04.2-1.43.59L10.3 9.45l-7.72 7.72c-.78.78-.78 2.05 0 2.83L4 21.41c.39.39.9.59 1.41.59.51 0 1.02-.2 1.41-.59l7.78-7.78 2.81-2.81c.8-.78.8-2.07 0-2.86zM5.41 20L4 18.59l7.72-7.72 1.47 1.35L5.41 20z\"/>\n",
              "  </svg>\n",
              "      </button>\n",
              "      \n",
              "  <style>\n",
              "    .colab-df-container {\n",
              "      display:flex;\n",
              "      flex-wrap:wrap;\n",
              "      gap: 12px;\n",
              "    }\n",
              "\n",
              "    .colab-df-convert {\n",
              "      background-color: #E8F0FE;\n",
              "      border: none;\n",
              "      border-radius: 50%;\n",
              "      cursor: pointer;\n",
              "      display: none;\n",
              "      fill: #1967D2;\n",
              "      height: 32px;\n",
              "      padding: 0 0 0 0;\n",
              "      width: 32px;\n",
              "    }\n",
              "\n",
              "    .colab-df-convert:hover {\n",
              "      background-color: #E2EBFA;\n",
              "      box-shadow: 0px 1px 2px rgba(60, 64, 67, 0.3), 0px 1px 3px 1px rgba(60, 64, 67, 0.15);\n",
              "      fill: #174EA6;\n",
              "    }\n",
              "\n",
              "    [theme=dark] .colab-df-convert {\n",
              "      background-color: #3B4455;\n",
              "      fill: #D2E3FC;\n",
              "    }\n",
              "\n",
              "    [theme=dark] .colab-df-convert:hover {\n",
              "      background-color: #434B5C;\n",
              "      box-shadow: 0px 1px 3px 1px rgba(0, 0, 0, 0.15);\n",
              "      filter: drop-shadow(0px 1px 2px rgba(0, 0, 0, 0.3));\n",
              "      fill: #FFFFFF;\n",
              "    }\n",
              "  </style>\n",
              "\n",
              "      <script>\n",
              "        const buttonEl =\n",
              "          document.querySelector('#df-942366f2-2bb1-4401-b903-fe0523333fdb button.colab-df-convert');\n",
              "        buttonEl.style.display =\n",
              "          google.colab.kernel.accessAllowed ? 'block' : 'none';\n",
              "\n",
              "        async function convertToInteractive(key) {\n",
              "          const element = document.querySelector('#df-942366f2-2bb1-4401-b903-fe0523333fdb');\n",
              "          const dataTable =\n",
              "            await google.colab.kernel.invokeFunction('convertToInteractive',\n",
              "                                                     [key], {});\n",
              "          if (!dataTable) return;\n",
              "\n",
              "          const docLinkHtml = 'Like what you see? Visit the ' +\n",
              "            '<a target=\"_blank\" href=https://colab.research.google.com/notebooks/data_table.ipynb>data table notebook</a>'\n",
              "            + ' to learn more about interactive tables.';\n",
              "          element.innerHTML = '';\n",
              "          dataTable['output_type'] = 'display_data';\n",
              "          await google.colab.output.renderOutput(dataTable, element);\n",
              "          const docLink = document.createElement('div');\n",
              "          docLink.innerHTML = docLinkHtml;\n",
              "          element.appendChild(docLink);\n",
              "        }\n",
              "      </script>\n",
              "    </div>\n",
              "  </div>\n",
              "  "
            ]
          },
          "metadata": {},
          "execution_count": 536
        }
      ],
      "source": [
        "df1"
      ]
    },
    {
      "cell_type": "code",
      "execution_count": 537,
      "metadata": {
        "colab": {
          "base_uri": "https://localhost:8080/"
        },
        "id": "8fO0yKvyliJW",
        "outputId": "59d88a1c-a283-41e0-afeb-7b0cdd15d7d5"
      },
      "outputs": [
        {
          "output_type": "execute_result",
          "data": {
            "text/plain": [
              "work_year             2022.0\n",
              "experience_level         4.0\n",
              "employment_type          1.0\n",
              "salary_in_usd       264860.8\n",
              "remote_ratio             3.0\n",
              "company_size             3.0\n",
              "Name: 0.97, dtype: float64"
            ]
          },
          "metadata": {},
          "execution_count": 537
        }
      ],
      "source": [
        "line"
      ]
    },
    {
      "cell_type": "code",
      "execution_count": 538,
      "metadata": {
        "scrolled": true,
        "colab": {
          "base_uri": "https://localhost:8080/",
          "height": 366
        },
        "id": "80LJkkeQliJW",
        "outputId": "7580aa2f-7c2b-4d59-ff9f-9e818dc746aa"
      },
      "outputs": [
        {
          "output_type": "execute_result",
          "data": {
            "text/plain": [
              "<matplotlib.axes._subplots.AxesSubplot at 0x7f0852e9edf0>"
            ]
          },
          "metadata": {},
          "execution_count": 538
        },
        {
          "output_type": "display_data",
          "data": {
            "text/plain": [
              "<Figure size 432x288 with 2 Axes>"
            ],
            "image/png": "[encoded data removed]"
          },
          "metadata": {
            "needs_background": "light"
          }
        }
      ],
      "source": [
        "sns.heatmap(df1.corr(), annot=True)\n"
      ]
    },
    {
      "cell_type": "code",
      "execution_count": 539,
      "metadata": {
        "colab": {
          "base_uri": "https://localhost:8080/",
          "height": 310
        },
        "id": "VhYD_a_LliJX",
        "outputId": "b5794b72-a1e5-4046-d4c2-a925bb61396d"
      },
      "outputs": [
        {
          "output_type": "execute_result",
          "data": {
            "text/plain": [
              "<matplotlib.axes._subplots.AxesSubplot at 0x7f0852d4eb80>"
            ]
          },
          "metadata": {},
          "execution_count": 539
        },
        {
          "output_type": "display_data",
          "data": {
            "text/plain": [
              "<Figure size 432x288 with 1 Axes>"
            ],
            "image/png": "[encoded data removed]"
          },
          "metadata": {
            "needs_background": "light"
          }
        }
      ],
      "source": [
        "plt.title('expirience/salary_usd')\n",
        "plt.ylabel('salary')\n",
        "df1.groupby('experience_level')['salary_in_usd'].sum().sort_values(ascending=False).plot(kind ='bar')"
      ]
    },
    {
      "cell_type": "code",
      "execution_count": 540,
      "metadata": {
        "colab": {
          "base_uri": "https://localhost:8080/",
          "height": 522
        },
        "id": "vau0Co5bliJX",
        "outputId": "5ee7f405-1f9f-455c-a876-5d0a6d709a35"
      },
      "outputs": [
        {
          "output_type": "execute_result",
          "data": {
            "text/plain": [
              "      work_year  experience_level  employment_type  salary_in_usd  \\\n",
              "0          2022                 1                1          63000   \n",
              "1          2022                 2                1          95000   \n",
              "2          2022                 2                1          70000   \n",
              "3          2022                 2                1          48853   \n",
              "4          2022                 1                1         120000   \n",
              "...         ...               ...              ...            ...   \n",
              "1242       2020                 2                1          96422   \n",
              "1243       2021                 3                1          82528   \n",
              "1244       2021                 3                1         126000   \n",
              "1245       2021                 2                1          57769   \n",
              "1246       2021                 2                1          66310   \n",
              "\n",
              "      remote_ratio  company_size  job_title_Application Security Analyst  \\\n",
              "0                2             1                                       0   \n",
              "1                1             2                                       0   \n",
              "2                1             2                                       0   \n",
              "3                2             3                                       0   \n",
              "4                3             1                                       0   \n",
              "...            ...           ...                                     ...   \n",
              "1242             2             2                                       0   \n",
              "1243             2             3                                       0   \n",
              "1244             3             3                                       0   \n",
              "1245             3             3                                       0   \n",
              "1246             1             3                                       0   \n",
              "\n",
              "      job_title_Application Security Engineer  \\\n",
              "0                                           0   \n",
              "1                                           0   \n",
              "2                                           0   \n",
              "3                                           0   \n",
              "4                                           0   \n",
              "...                                       ...   \n",
              "1242                                        0   \n",
              "1243                                        0   \n",
              "1244                                        0   \n",
              "1245                                        0   \n",
              "1246                                        0   \n",
              "\n",
              "      job_title_Application Security Specialist  \\\n",
              "0                                             0   \n",
              "1                                             0   \n",
              "2                                             0   \n",
              "3                                             0   \n",
              "4                                             0   \n",
              "...                                         ...   \n",
              "1242                                          0   \n",
              "1243                                          0   \n",
              "1244                                          0   \n",
              "1245                                          0   \n",
              "1246                                          0   \n",
              "\n",
              "      job_title_Azure Security Engineer  ...  company_location_SA  \\\n",
              "0                                     0  ...                    0   \n",
              "1                                     0  ...                    0   \n",
              "2                                     0  ...                    0   \n",
              "3                                     0  ...                    0   \n",
              "4                                     0  ...                    0   \n",
              "...                                 ...  ...                  ...   \n",
              "1242                                  0  ...                    0   \n",
              "1243                                  0  ...                    0   \n",
              "1244                                  0  ...                    0   \n",
              "1245                                  0  ...                    0   \n",
              "1246                                  0  ...                    0   \n",
              "\n",
              "      company_location_SE  company_location_SG  company_location_SI  \\\n",
              "0                       0                    0                    0   \n",
              "1                       0                    0                    0   \n",
              "2                       0                    0                    0   \n",
              "3                       0                    0                    0   \n",
              "4                       0                    0                    0   \n",
              "...                   ...                  ...                  ...   \n",
              "1242                    0                    0                    0   \n",
              "1243                    0                    0                    0   \n",
              "1244                    0                    0                    0   \n",
              "1245                    0                    0                    0   \n",
              "1246                    0                    0                    0   \n",
              "\n",
              "      company_location_TR  company_location_TW  company_location_UM  \\\n",
              "0                       0                    0                    0   \n",
              "1                       0                    0                    0   \n",
              "2                       0                    0                    0   \n",
              "3                       0                    0                    0   \n",
              "4                       0                    0                    0   \n",
              "...                   ...                  ...                  ...   \n",
              "1242                    0                    0                    0   \n",
              "1243                    0                    0                    0   \n",
              "1244                    0                    0                    0   \n",
              "1245                    0                    0                    0   \n",
              "1246                    0                    0                    0   \n",
              "\n",
              "      company_location_US  company_location_VN  company_location_ZA  \n",
              "0                       1                    0                    0  \n",
              "1                       1                    0                    0  \n",
              "2                       1                    0                    0  \n",
              "3                       0                    0                    0  \n",
              "4                       0                    0                    0  \n",
              "...                   ...                  ...                  ...  \n",
              "1242                    0                    0                    0  \n",
              "1243                    0                    0                    0  \n",
              "1244                    1                    0                    0  \n",
              "1245                    0                    0                    0  \n",
              "1246                    1                    0                    0  \n",
              "\n",
              "[1209 rows x 205 columns]"
            ],
            "text/html": [
              "\n",
              "  <div id=\"df-35c2a116-4f92-4fd0-8503-d2efd3dfa1fa\">\n",
              "    <div class=\"colab-df-container\">\n",
              "      <div>\n",
              "<style scoped>\n",
              "    .dataframe tbody tr th:only-of-type {\n",
              "        vertical-align: middle;\n",
              "    }\n",
              "\n",
              "    .dataframe tbody tr th {\n",
              "        vertical-align: top;\n",
              "    }\n",
              "\n",
              "    .dataframe thead th {\n",
              "        text-align: right;\n",
              "    }\n",
              "</style>\n",
              "<table border=\"1\" class=\"dataframe\">\n",
              "  <thead>\n",
              "    <tr style=\"text-align: right;\">\n",
              "      <th></th>\n",
              "      <th>work_year</th>\n",
              "      <th>experience_level</th>\n",
              "      <th>employment_type</th>\n",
              "      <th>salary_in_usd</th>\n",
              "      <th>remote_ratio</th>\n",
              "      <th>company_size</th>\n",
              "      <th>job_title_Application Security Analyst</th>\n",
              "      <th>job_title_Application Security Engineer</th>\n",
              "      <th>job_title_Application Security Specialist</th>\n",
              "      <th>job_title_Azure Security Engineer</th>\n",
              "      <th>...</th>\n",
              "      <th>company_location_SA</th>\n",
              "      <th>company_location_SE</th>\n",
              "      <th>company_location_SG</th>\n",
              "      <th>company_location_SI</th>\n",
              "      <th>company_location_TR</th>\n",
              "      <th>company_location_TW</th>\n",
              "      <th>company_location_UM</th>\n",
              "      <th>company_location_US</th>\n",
              "      <th>company_location_VN</th>\n",
              "      <th>company_location_ZA</th>\n",
              "    </tr>\n",
              "  </thead>\n",
              "  <tbody>\n",
              "    <tr>\n",
              "      <th>0</th>\n",
              "      <td>2022</td>\n",
              "      <td>1</td>\n",
              "      <td>1</td>\n",
              "      <td>63000</td>\n",
              "      <td>2</td>\n",
              "      <td>1</td>\n",
              "      <td>0</td>\n",
              "      <td>0</td>\n",
              "      <td>0</td>\n",
              "      <td>0</td>\n",
              "      <td>...</td>\n",
              "      <td>0</td>\n",
              "      <td>0</td>\n",
              "      <td>0</td>\n",
              "      <td>0</td>\n",
              "      <td>0</td>\n",
              "      <td>0</td>\n",
              "      <td>0</td>\n",
              "      <td>1</td>\n",
              "      <td>0</td>\n",
              "      <td>0</td>\n",
              "    </tr>\n",
              "    <tr>\n",
              "      <th>1</th>\n",
              "      <td>2022</td>\n",
              "      <td>2</td>\n",
              "      <td>1</td>\n",
              "      <td>95000</td>\n",
              "      <td>1</td>\n",
              "      <td>2</td>\n",
              "      <td>0</td>\n",
              "      <td>0</td>\n",
              "      <td>0</td>\n",
              "      <td>0</td>\n",
              "      <td>...</td>\n",
              "      <td>0</td>\n",
              "      <td>0</td>\n",
              "      <td>0</td>\n",
              "      <td>0</td>\n",
              "      <td>0</td>\n",
              "      <td>0</td>\n",
              "      <td>0</td>\n",
              "      <td>1</td>\n",
              "      <td>0</td>\n",
              "      <td>0</td>\n",
              "    </tr>\n",
              "    <tr>\n",
              "      <th>2</th>\n",
              "      <td>2022</td>\n",
              "      <td>2</td>\n",
              "      <td>1</td>\n",
              "      <td>70000</td>\n",
              "      <td>1</td>\n",
              "      <td>2</td>\n",
              "      <td>0</td>\n",
              "      <td>0</td>\n",
              "      <td>0</td>\n",
              "      <td>0</td>\n",
              "      <td>...</td>\n",
              "      <td>0</td>\n",
              "      <td>0</td>\n",
              "      <td>0</td>\n",
              "      <td>0</td>\n",
              "      <td>0</td>\n",
              "      <td>0</td>\n",
              "      <td>0</td>\n",
              "      <td>1</td>\n",
              "      <td>0</td>\n",
              "      <td>0</td>\n",
              "    </tr>\n",
              "    <tr>\n",
              "      <th>3</th>\n",
              "      <td>2022</td>\n",
              "      <td>2</td>\n",
              "      <td>1</td>\n",
              "      <td>48853</td>\n",
              "      <td>2</td>\n",
              "      <td>3</td>\n",
              "      <td>0</td>\n",
              "      <td>0</td>\n",
              "      <td>0</td>\n",
              "      <td>0</td>\n",
              "      <td>...</td>\n",
              "      <td>0</td>\n",
              "      <td>0</td>\n",
              "      <td>0</td>\n",
              "      <td>0</td>\n",
              "      <td>0</td>\n",
              "      <td>0</td>\n",
              "      <td>0</td>\n",
              "      <td>0</td>\n",
              "      <td>0</td>\n",
              "      <td>0</td>\n",
              "    </tr>\n",
              "    <tr>\n",
              "      <th>4</th>\n",
              "      <td>2022</td>\n",
              "      <td>1</td>\n",
              "      <td>1</td>\n",
              "      <td>120000</td>\n",
              "      <td>3</td>\n",
              "      <td>1</td>\n",
              "      <td>0</td>\n",
              "      <td>0</td>\n",
              "      <td>0</td>\n",
              "      <td>0</td>\n",
              "      <td>...</td>\n",
              "      <td>0</td>\n",
              "      <td>0</td>\n",
              "      <td>0</td>\n",
              "      <td>0</td>\n",
              "      <td>0</td>\n",
              "      <td>0</td>\n",
              "      <td>0</td>\n",
              "      <td>0</td>\n",
              "      <td>0</td>\n",
              "      <td>0</td>\n",
              "    </tr>\n",
              "    <tr>\n",
              "      <th>...</th>\n",
              "      <td>...</td>\n",
              "      <td>...</td>\n",
              "      <td>...</td>\n",
              "      <td>...</td>\n",
              "      <td>...</td>\n",
              "      <td>...</td>\n",
              "      <td>...</td>\n",
              "      <td>...</td>\n",
              "      <td>...</td>\n",
              "      <td>...</td>\n",
              "      <td>...</td>\n",
              "      <td>...</td>\n",
              "      <td>...</td>\n",
              "      <td>...</td>\n",
              "      <td>...</td>\n",
              "      <td>...</td>\n",
              "      <td>...</td>\n",
              "      <td>...</td>\n",
              "      <td>...</td>\n",
              "      <td>...</td>\n",
              "      <td>...</td>\n",
              "    </tr>\n",
              "    <tr>\n",
              "      <th>1242</th>\n",
              "      <td>2020</td>\n",
              "      <td>2</td>\n",
              "      <td>1</td>\n",
              "      <td>96422</td>\n",
              "      <td>2</td>\n",
              "      <td>2</td>\n",
              "      <td>0</td>\n",
              "      <td>0</td>\n",
              "      <td>0</td>\n",
              "      <td>0</td>\n",
              "      <td>...</td>\n",
              "      <td>0</td>\n",
              "      <td>0</td>\n",
              "      <td>0</td>\n",
              "      <td>0</td>\n",
              "      <td>0</td>\n",
              "      <td>0</td>\n",
              "      <td>0</td>\n",
              "      <td>0</td>\n",
              "      <td>0</td>\n",
              "      <td>0</td>\n",
              "    </tr>\n",
              "    <tr>\n",
              "      <th>1243</th>\n",
              "      <td>2021</td>\n",
              "      <td>3</td>\n",
              "      <td>1</td>\n",
              "      <td>82528</td>\n",
              "      <td>2</td>\n",
              "      <td>3</td>\n",
              "      <td>0</td>\n",
              "      <td>0</td>\n",
              "      <td>0</td>\n",
              "      <td>0</td>\n",
              "      <td>...</td>\n",
              "      <td>0</td>\n",
              "      <td>0</td>\n",
              "      <td>0</td>\n",
              "      <td>0</td>\n",
              "      <td>0</td>\n",
              "      <td>0</td>\n",
              "      <td>0</td>\n",
              "      <td>0</td>\n",
              "      <td>0</td>\n",
              "      <td>0</td>\n",
              "    </tr>\n",
              "    <tr>\n",
              "      <th>1244</th>\n",
              "      <td>2021</td>\n",
              "      <td>3</td>\n",
              "      <td>1</td>\n",
              "      <td>126000</td>\n",
              "      <td>3</td>\n",
              "      <td>3</td>\n",
              "      <td>0</td>\n",
              "      <td>0</td>\n",
              "      <td>0</td>\n",
              "      <td>0</td>\n",
              "      <td>...</td>\n",
              "      <td>0</td>\n",
              "      <td>0</td>\n",
              "      <td>0</td>\n",
              "      <td>0</td>\n",
              "      <td>0</td>\n",
              "      <td>0</td>\n",
              "      <td>0</td>\n",
              "      <td>1</td>\n",
              "      <td>0</td>\n",
              "      <td>0</td>\n",
              "    </tr>\n",
              "    <tr>\n",
              "      <th>1245</th>\n",
              "      <td>2021</td>\n",
              "      <td>2</td>\n",
              "      <td>1</td>\n",
              "      <td>57769</td>\n",
              "      <td>3</td>\n",
              "      <td>3</td>\n",
              "      <td>0</td>\n",
              "      <td>0</td>\n",
              "      <td>0</td>\n",
              "      <td>0</td>\n",
              "      <td>...</td>\n",
              "      <td>0</td>\n",
              "      <td>0</td>\n",
              "      <td>0</td>\n",
              "      <td>0</td>\n",
              "      <td>0</td>\n",
              "      <td>0</td>\n",
              "      <td>0</td>\n",
              "      <td>0</td>\n",
              "      <td>0</td>\n",
              "      <td>0</td>\n",
              "    </tr>\n",
              "    <tr>\n",
              "      <th>1246</th>\n",
              "      <td>2021</td>\n",
              "      <td>2</td>\n",
              "      <td>1</td>\n",
              "      <td>66310</td>\n",
              "      <td>1</td>\n",
              "      <td>3</td>\n",
              "      <td>0</td>\n",
              "      <td>0</td>\n",
              "      <td>0</td>\n",
              "      <td>0</td>\n",
              "      <td>...</td>\n",
              "      <td>0</td>\n",
              "      <td>0</td>\n",
              "      <td>0</td>\n",
              "      <td>0</td>\n",
              "      <td>0</td>\n",
              "      <td>0</td>\n",
              "      <td>0</td>\n",
              "      <td>1</td>\n",
              "      <td>0</td>\n",
              "      <td>0</td>\n",
              "    </tr>\n",
              "  </tbody>\n",
              "</table>\n",
              "<p>1209 rows × 205 columns</p>\n",
              "</div>\n",
              "      <button class=\"colab-df-convert\" onclick=\"convertToInteractive('df-35c2a116-4f92-4fd0-8503-d2efd3dfa1fa')\"\n",
              "              title=\"Convert this dataframe to an interactive table.\"\n",
              "              style=\"display:none;\">\n",
              "        \n",
              "  <svg xmlns=\"http://www.w3.org/2000/svg\" height=\"24px\"viewBox=\"0 0 24 24\"\n",
              "       width=\"24px\">\n",
              "    <path d=\"M0 0h24v24H0V0z\" fill=\"none\"/>\n",
              "    <path d=\"M18.56 5.44l.94 2.06.94-2.06 2.06-.94-2.06-.94-.94-2.06-.94 2.06-2.06.94zm-11 1L8.5 8.5l.94-2.06 2.06-.94-2.06-.94L8.5 2.5l-.94 2.06-2.06.94zm10 10l.94 2.06.94-2.06 2.06-.94-2.06-.94-.94-2.06-.94 2.06-2.06.94z\"/><path d=\"M17.41 7.96l-1.37-1.37c-.4-.4-.92-.59-1.43-.59-.52 0-1.04.2-1.43.59L10.3 9.45l-7.72 7.72c-.78.78-.78 2.05 0 2.83L4 21.41c.39.39.9.59 1.41.59.51 0 1.02-.2 1.41-.59l7.78-7.78 2.81-2.81c.8-.78.8-2.07 0-2.86zM5.41 20L4 18.59l7.72-7.72 1.47 1.35L5.41 20z\"/>\n",
              "  </svg>\n",
              "      </button>\n",
              "      \n",
              "  <style>\n",
              "    .colab-df-container {\n",
              "      display:flex;\n",
              "      flex-wrap:wrap;\n",
              "      gap: 12px;\n",
              "    }\n",
              "\n",
              "    .colab-df-convert {\n",
              "      background-color: #E8F0FE;\n",
              "      border: none;\n",
              "      border-radius: 50%;\n",
              "      cursor: pointer;\n",
              "      display: none;\n",
              "      fill: #1967D2;\n",
              "      height: 32px;\n",
              "      padding: 0 0 0 0;\n",
              "      width: 32px;\n",
              "    }\n",
              "\n",
              "    .colab-df-convert:hover {\n",
              "      background-color: #E2EBFA;\n",
              "      box-shadow: 0px 1px 2px rgba(60, 64, 67, 0.3), 0px 1px 3px 1px rgba(60, 64, 67, 0.15);\n",
              "      fill: #174EA6;\n",
              "    }\n",
              "\n",
              "    [theme=dark] .colab-df-convert {\n",
              "      background-color: #3B4455;\n",
              "      fill: #D2E3FC;\n",
              "    }\n",
              "\n",
              "    [theme=dark] .colab-df-convert:hover {\n",
              "      background-color: #434B5C;\n",
              "      box-shadow: 0px 1px 3px 1px rgba(0, 0, 0, 0.15);\n",
              "      filter: drop-shadow(0px 1px 2px rgba(0, 0, 0, 0.3));\n",
              "      fill: #FFFFFF;\n",
              "    }\n",
              "  </style>\n",
              "\n",
              "      <script>\n",
              "        const buttonEl =\n",
              "          document.querySelector('#df-35c2a116-4f92-4fd0-8503-d2efd3dfa1fa button.colab-df-convert');\n",
              "        buttonEl.style.display =\n",
              "          google.colab.kernel.accessAllowed ? 'block' : 'none';\n",
              "\n",
              "        async function convertToInteractive(key) {\n",
              "          const element = document.querySelector('#df-35c2a116-4f92-4fd0-8503-d2efd3dfa1fa');\n",
              "          const dataTable =\n",
              "            await google.colab.kernel.invokeFunction('convertToInteractive',\n",
              "                                                     [key], {});\n",
              "          if (!dataTable) return;\n",
              "\n",
              "          const docLinkHtml = 'Like what you see? Visit the ' +\n",
              "            '<a target=\"_blank\" href=https://colab.research.google.com/notebooks/data_table.ipynb>data table notebook</a>'\n",
              "            + ' to learn more about interactive tables.';\n",
              "          element.innerHTML = '';\n",
              "          dataTable['output_type'] = 'display_data';\n",
              "          await google.colab.output.renderOutput(dataTable, element);\n",
              "          const docLink = document.createElement('div');\n",
              "          docLink.innerHTML = docLinkHtml;\n",
              "          element.appendChild(docLink);\n",
              "        }\n",
              "      </script>\n",
              "    </div>\n",
              "  </div>\n",
              "  "
            ]
          },
          "metadata": {},
          "execution_count": 540
        }
      ],
      "source": [
        "df2 = pd.get_dummies(df1)\n",
        "df2"
      ]
    },
    {
      "cell_type": "markdown",
      "metadata": {
        "id": "8m8C5dADliJX"
      },
      "source": [
        "### Подготовка данных к построению модели"
      ]
    },
    {
      "cell_type": "markdown",
      "metadata": {
        "id": "p__iXCPvliJX"
      },
      "source": [
        "В dataset присутствует множество признаков. Деление на train и test может плохо сказаться на качестве модели"
      ]
    },
    {
      "cell_type": "code",
      "execution_count": 541,
      "metadata": {
        "id": "gw8l1vIJliJX"
      },
      "outputs": [],
      "source": [
        "from sklearn.metrics import r2_score, mean_absolute_error, mean_squared_error"
      ]
    },
    {
      "cell_type": "code",
      "execution_count": 542,
      "metadata": {
        "id": "LrRGh-02liJX"
      },
      "outputs": [],
      "source": [
        "X = df2.drop(['salary_in_usd'], axis=1)\n",
        "Y = df2['salary_in_usd']"
      ]
    },
    {
      "cell_type": "code",
      "execution_count": 543,
      "metadata": {
        "colab": {
          "base_uri": "https://localhost:8080/"
        },
        "id": "mX6kZaFHliJY",
        "outputId": "de093a33-a451-4946-e75a-28eaf6a095a0"
      },
      "outputs": [
        {
          "output_type": "execute_result",
          "data": {
            "text/plain": [
              "((1088, 204), (121, 204), (1088,), (121,))"
            ]
          },
          "metadata": {},
          "execution_count": 543
        }
      ],
      "source": [
        "X_train, X_test, Y_train, Y_test = train_test_split(X, Y, test_size=0.1, random_state=0)\n",
        "X_train.shape, X_test.shape, Y_train.shape, Y_test.shape"
      ]
    },
    {
      "cell_type": "markdown",
      "metadata": {
        "id": "3oEg_O5GliJY"
      },
      "source": [
        "Разбиение на 90/10 объясняется тем, что в dataset множество признаков и для более качественной тренировки необходимо, чтобы в выборку train  попало как можно больше различных данных."
      ]
    },
    {
      "cell_type": "code",
      "execution_count": 544,
      "metadata": {
        "id": "HaIH_qvPliJY"
      },
      "outputs": [],
      "source": [
        "r_score=[]\n",
        "mse=[]\n",
        "mae=[]\n",
        "names=[]\n",
        "r_score_test=[]\n",
        "mse_test=[]\n",
        "mae_test=[]"
      ]
    },
    {
      "cell_type": "markdown",
      "metadata": {
        "id": "WKAv6N3EliJY"
      },
      "source": [
        "### Модель Random forest"
      ]
    },
    {
      "cell_type": "code",
      "execution_count": 545,
      "metadata": {
        "id": "dR0IpiwvliJY"
      },
      "outputs": [],
      "source": [
        "from sklearn.ensemble import RandomForestRegressor\n",
        "model = RandomForestRegressor(n_estimators=1000, max_depth=12, random_state=42)\n",
        "names.append('Random forest')"
      ]
    },
    {
      "cell_type": "code",
      "execution_count": 546,
      "metadata": {
        "colab": {
          "base_uri": "https://localhost:8080/"
        },
        "id": "B8CWanOzliJY",
        "outputId": "ae60daff-419a-4cb2-d9bd-b0737a081375"
      },
      "outputs": [
        {
          "output_type": "execute_result",
          "data": {
            "text/plain": [
              "RandomForestRegressor(max_depth=12, n_estimators=1000, random_state=42)"
            ]
          },
          "metadata": {},
          "execution_count": 546
        }
      ],
      "source": [
        "model.fit(X_train, Y_train)"
      ]
    },
    {
      "cell_type": "code",
      "execution_count": 547,
      "metadata": {
        "colab": {
          "base_uri": "https://localhost:8080/"
        },
        "id": "9HZtOwJfliJZ",
        "outputId": "431cd3fa-55b6-44a7-c125-98a65d80edb2"
      },
      "outputs": [
        {
          "output_type": "execute_result",
          "data": {
            "text/plain": [
              "(1209,)"
            ]
          },
          "metadata": {},
          "execution_count": 547
        }
      ],
      "source": [
        "y_pred = model.predict(X)\n",
        "y_pred.shape"
      ]
    },
    {
      "cell_type": "code",
      "execution_count": 548,
      "metadata": {
        "colab": {
          "base_uri": "https://localhost:8080/"
        },
        "id": "hVLL9rbkliJZ",
        "outputId": "1d284f32-33a3-4fdf-8fe1-2832091446fa"
      },
      "outputs": [
        {
          "output_type": "execute_result",
          "data": {
            "text/plain": [
              "(121,)"
            ]
          },
          "metadata": {},
          "execution_count": 548
        }
      ],
      "source": [
        "y_test_pred = model.predict(X_test)\n",
        "y_test_pred.shape"
      ]
    },
    {
      "cell_type": "code",
      "execution_count": 549,
      "metadata": {
        "id": "rnI91MLaliJZ"
      },
      "outputs": [],
      "source": [
        "r2_score_rf = r2_score(Y, y_pred)\n",
        "r_score.append(round(r2_score(Y, y_pred), 3))\n",
        "# r2_score_2"
      ]
    },
    {
      "cell_type": "code",
      "execution_count": 550,
      "metadata": {
        "id": "Cn-7I-vxliJZ"
      },
      "outputs": [],
      "source": [
        "r2_score_rf_test = r2_score(Y_test, y_test_pred)\n",
        "r_score_test.append(round(r2_score(Y_test, y_test_pred), 3))"
      ]
    },
    {
      "cell_type": "code",
      "execution_count": 551,
      "metadata": {
        "id": "J5hwjxsAliJZ"
      },
      "outputs": [],
      "source": [
        "#mean_squared_error(Y, y_pred)**.5\n",
        "mse.append(mean_squared_error(Y, y_pred)**.5)"
      ]
    },
    {
      "cell_type": "code",
      "execution_count": 552,
      "metadata": {
        "id": "AU4ihEdiliJZ"
      },
      "outputs": [],
      "source": [
        "mse_test.append(mean_squared_error(Y_test, y_test_pred)**.5)"
      ]
    },
    {
      "cell_type": "code",
      "execution_count": 553,
      "metadata": {
        "id": "PYMAcwETliJa"
      },
      "outputs": [],
      "source": [
        "mae.append(mean_absolute_error(Y,y_pred))"
      ]
    },
    {
      "cell_type": "code",
      "execution_count": 554,
      "metadata": {
        "id": "DX3S6w45liJa"
      },
      "outputs": [],
      "source": [
        "mae_test.append(mean_absolute_error(Y_test, y_test_pred))"
      ]
    },
    {
      "cell_type": "code",
      "execution_count": 555,
      "metadata": {
        "colab": {
          "base_uri": "https://localhost:8080/",
          "height": 81
        },
        "id": "7McXxPinliJa",
        "outputId": "8b3bd2d2-0019-452f-d5f2-56466524b6ea"
      },
      "outputs": [
        {
          "output_type": "execute_result",
          "data": {
            "text/plain": [
              "                 R2           MSE           MAE  R2_test      MSE_test  \\\n",
              "Random forest  0.74  27432.595909  20852.498831    0.612  31532.090239   \n",
              "\n",
              "                   MAE_test  \n",
              "Random forest  23582.456088  "
            ],
            "text/html": [
              "\n",
              "  <div id=\"df-1e52c62a-d8d7-465f-9bc2-311302363155\">\n",
              "    <div class=\"colab-df-container\">\n",
              "      <div>\n",
              "<style scoped>\n",
              "    .dataframe tbody tr th:only-of-type {\n",
              "        vertical-align: middle;\n",
              "    }\n",
              "\n",
              "    .dataframe tbody tr th {\n",
              "        vertical-align: top;\n",
              "    }\n",
              "\n",
              "    .dataframe thead th {\n",
              "        text-align: right;\n",
              "    }\n",
              "</style>\n",
              "<table border=\"1\" class=\"dataframe\">\n",
              "  <thead>\n",
              "    <tr style=\"text-align: right;\">\n",
              "      <th></th>\n",
              "      <th>R2</th>\n",
              "      <th>MSE</th>\n",
              "      <th>MAE</th>\n",
              "      <th>R2_test</th>\n",
              "      <th>MSE_test</th>\n",
              "      <th>MAE_test</th>\n",
              "    </tr>\n",
              "  </thead>\n",
              "  <tbody>\n",
              "    <tr>\n",
              "      <th>Random forest</th>\n",
              "      <td>0.74</td>\n",
              "      <td>27432.595909</td>\n",
              "      <td>20852.498831</td>\n",
              "      <td>0.612</td>\n",
              "      <td>31532.090239</td>\n",
              "      <td>23582.456088</td>\n",
              "    </tr>\n",
              "  </tbody>\n",
              "</table>\n",
              "</div>\n",
              "      <button class=\"colab-df-convert\" onclick=\"convertToInteractive('df-1e52c62a-d8d7-465f-9bc2-311302363155')\"\n",
              "              title=\"Convert this dataframe to an interactive table.\"\n",
              "              style=\"display:none;\">\n",
              "        \n",
              "  <svg xmlns=\"http://www.w3.org/2000/svg\" height=\"24px\"viewBox=\"0 0 24 24\"\n",
              "       width=\"24px\">\n",
              "    <path d=\"M0 0h24v24H0V0z\" fill=\"none\"/>\n",
              "    <path d=\"M18.56 5.44l.94 2.06.94-2.06 2.06-.94-2.06-.94-.94-2.06-.94 2.06-2.06.94zm-11 1L8.5 8.5l.94-2.06 2.06-.94-2.06-.94L8.5 2.5l-.94 2.06-2.06.94zm10 10l.94 2.06.94-2.06 2.06-.94-2.06-.94-.94-2.06-.94 2.06-2.06.94z\"/><path d=\"M17.41 7.96l-1.37-1.37c-.4-.4-.92-.59-1.43-.59-.52 0-1.04.2-1.43.59L10.3 9.45l-7.72 7.72c-.78.78-.78 2.05 0 2.83L4 21.41c.39.39.9.59 1.41.59.51 0 1.02-.2 1.41-.59l7.78-7.78 2.81-2.81c.8-.78.8-2.07 0-2.86zM5.41 20L4 18.59l7.72-7.72 1.47 1.35L5.41 20z\"/>\n",
              "  </svg>\n",
              "      </button>\n",
              "      \n",
              "  <style>\n",
              "    .colab-df-container {\n",
              "      display:flex;\n",
              "      flex-wrap:wrap;\n",
              "      gap: 12px;\n",
              "    }\n",
              "\n",
              "    .colab-df-convert {\n",
              "      background-color: #E8F0FE;\n",
              "      border: none;\n",
              "      border-radius: 50%;\n",
              "      cursor: pointer;\n",
              "      display: none;\n",
              "      fill: #1967D2;\n",
              "      height: 32px;\n",
              "      padding: 0 0 0 0;\n",
              "      width: 32px;\n",
              "    }\n",
              "\n",
              "    .colab-df-convert:hover {\n",
              "      background-color: #E2EBFA;\n",
              "      box-shadow: 0px 1px 2px rgba(60, 64, 67, 0.3), 0px 1px 3px 1px rgba(60, 64, 67, 0.15);\n",
              "      fill: #174EA6;\n",
              "    }\n",
              "\n",
              "    [theme=dark] .colab-df-convert {\n",
              "      background-color: #3B4455;\n",
              "      fill: #D2E3FC;\n",
              "    }\n",
              "\n",
              "    [theme=dark] .colab-df-convert:hover {\n",
              "      background-color: #434B5C;\n",
              "      box-shadow: 0px 1px 3px 1px rgba(0, 0, 0, 0.15);\n",
              "      filter: drop-shadow(0px 1px 2px rgba(0, 0, 0, 0.3));\n",
              "      fill: #FFFFFF;\n",
              "    }\n",
              "  </style>\n",
              "\n",
              "      <script>\n",
              "        const buttonEl =\n",
              "          document.querySelector('#df-1e52c62a-d8d7-465f-9bc2-311302363155 button.colab-df-convert');\n",
              "        buttonEl.style.display =\n",
              "          google.colab.kernel.accessAllowed ? 'block' : 'none';\n",
              "\n",
              "        async function convertToInteractive(key) {\n",
              "          const element = document.querySelector('#df-1e52c62a-d8d7-465f-9bc2-311302363155');\n",
              "          const dataTable =\n",
              "            await google.colab.kernel.invokeFunction('convertToInteractive',\n",
              "                                                     [key], {});\n",
              "          if (!dataTable) return;\n",
              "\n",
              "          const docLinkHtml = 'Like what you see? Visit the ' +\n",
              "            '<a target=\"_blank\" href=https://colab.research.google.com/notebooks/data_table.ipynb>data table notebook</a>'\n",
              "            + ' to learn more about interactive tables.';\n",
              "          element.innerHTML = '';\n",
              "          dataTable['output_type'] = 'display_data';\n",
              "          await google.colab.output.renderOutput(dataTable, element);\n",
              "          const docLink = document.createElement('div');\n",
              "          docLink.innerHTML = docLinkHtml;\n",
              "          element.appendChild(docLink);\n",
              "        }\n",
              "      </script>\n",
              "    </div>\n",
              "  </div>\n",
              "  "
            ]
          },
          "metadata": {},
          "execution_count": 555
        }
      ],
      "source": [
        "res = pd.DataFrame(columns = ['R2', 'MSE', 'MAE', 'R2_test', 'MSE_test', 'MAE_test'], index=names)\n",
        "res.R2 = r_score\n",
        "res.MSE = mse\n",
        "res.MAE = mae\n",
        "res.R2_test = r_score_test\n",
        "res.MSE_test = mse_test\n",
        "res.MAE_test = mae_test\n",
        "res"
      ]
    },
    {
      "cell_type": "markdown",
      "metadata": {
        "id": "nIbeb7HxliJa"
      },
      "source": [
        "Вывод: на ограниченной выборке модель показала себя приемлемо, но для более качественного анализа необходимо больше данных. Линейная регрессия с данной задачей не справилась, R2 получился отрицательным. Увеличение max_depth приведет к более качественному обучению модели, но на тестовой выборке покажет примерно такой же результат."
      ]
    }
  ],
  "metadata": {
    "colab": {
      "provenance": [],
      "include_colab_link": true
    },
    "kernelspec": {
      "display_name": "Python 3 (ipykernel)",
      "language": "python",
      "name": "python3"
    },
    "language_info": {
      "codemirror_mode": {
        "name": "ipython",
        "version": 3
      },
      "file_extension": ".py",
      "mimetype": "text/x-python",
      "name": "python",
      "nbconvert_exporter": "python",
      "pygments_lexer": "ipython3",
      "version": "3.9.13"
    }
  },
  "nbformat": 4,
  "nbformat_minor": 0
}