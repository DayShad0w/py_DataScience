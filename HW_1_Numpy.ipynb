{
  "nbformat": 4,
  "nbformat_minor": 0,
  "metadata": {
    "colab": {
      "provenance": [],
      "authorship_tag": "ABX9TyO49nUY2q6nGBgH06sMyL4C",
      "include_colab_link": true
    },
    "kernelspec": {
      "name": "python3",
      "display_name": "Python 3"
    },
    "language_info": {
      "name": "python"
    }
  },
  "cells": [
    {
      "cell_type": "markdown",
      "metadata": {
        "id": "view-in-github",
        "colab_type": "text"
      },
      "source": [
        "<a href=\"https://colab.research.google.com/github/DayShad0w/py_DataScience/blob/HW%231/HW_1_Numpy.ipynb\" target=\"_parent\"><img src=\"https://colab.research.google.com/assets/colab-badge.svg\" alt=\"Open In Colab\"/></a>"
      ]
    },
    {
      "cell_type": "markdown",
      "source": [
        "**Задание 1**\n",
        "\n",
        "Импортируйте библиотеку Numpy и дайте ей псевдоним np.\n",
        "\n",
        "Создайте массив Numpy под названием a размером 5x2, то есть состоящий из 5 \n",
        "строк и 2 столбцов.\n",
        "\n",
        "Первый столбец должен содержать числа 1, 2, 3, 3, 1, а второй - числа 6, 8, 11, 10, 7. \n",
        "\n",
        "Будем считать, что каждый столбец - это признак, а строка - наблюдение. \n",
        "Затем найдите среднее значение по каждому признаку, используя метод mean массива Numpy. \n",
        "\n",
        "Результат запишите в массив mean_a, в нем должно быть 2 элемента.\n"
      ],
      "metadata": {
        "id": "zoYFSlkgABj9"
      }
    },
    {
      "cell_type": "code",
      "source": [
        "import numpy as np\n",
        "arr = np.array([[1,6],\n",
        "                [2,8],\n",
        "                [3,11],\n",
        "                [3,10],\n",
        "                [1,7]])\n",
        "print(\"Array:\\n\", arr)\n",
        "\n",
        "mean_a = arr.mean(axis=0)\n",
        "print(\"Mean = \", mean_a)"
      ],
      "metadata": {
        "colab": {
          "base_uri": "https://localhost:8080/"
        },
        "id": "HPMC0WzcAG1W",
        "outputId": "37f8254f-a2bd-4521-c262-9bd82a62d139"
      },
      "execution_count": null,
      "outputs": [
        {
          "output_type": "stream",
          "name": "stdout",
          "text": [
            "Array:\n",
            " [[ 1  6]\n",
            " [ 2  8]\n",
            " [ 3 11]\n",
            " [ 3 10]\n",
            " [ 1  7]]\n",
            "Mean =  [2.  8.4]\n"
          ]
        }
      ]
    },
    {
      "cell_type": "markdown",
      "source": [
        "**Задание 2**\n",
        "\n",
        "Вычислите массив a_centered, отняв от значений массива “а” средние значения соответствующих признаков, содержащиеся в массиве mean_a. Вычисление должно производиться в одно действие. Получившийся массив должен иметь размер 5x2.\n"
      ],
      "metadata": {
        "id": "saymw-bYDGzg"
      }
    },
    {
      "cell_type": "code",
      "source": [
        "a_centered = arr-mean_a\n",
        "print(a_centered)"
      ],
      "metadata": {
        "colab": {
          "base_uri": "https://localhost:8080/"
        },
        "id": "2wZG2XoTDLwU",
        "outputId": "ee11c434-0ba1-4605-8e98-9894a9c1837a"
      },
      "execution_count": null,
      "outputs": [
        {
          "output_type": "stream",
          "name": "stdout",
          "text": [
            "[[-1.  -2.4]\n",
            " [ 0.  -0.4]\n",
            " [ 1.   2.6]\n",
            " [ 1.   1.6]\n",
            " [-1.  -1.4]]\n"
          ]
        }
      ]
    },
    {
      "cell_type": "markdown",
      "source": [
        "Задание 3\n",
        "\n",
        "Найдите скалярное произведение столбцов массива a_centered. В результате должна получиться величина a_centered_sp. Затем поделите a_centered_sp на N-1, где N - число наблюдений.\n"
      ],
      "metadata": {
        "id": "Jxrco2B8DdCC"
      }
    },
    {
      "cell_type": "code",
      "source": [
        "print(a_centered[:,0])\n",
        "print(a_centered[:,1])\n",
        "a_centered_sp = np.dot(a_centered[:,0], a_centered[:,1] )\n",
        "print(\"a_centered_sp = \", a_centered_sp/4)"
      ],
      "metadata": {
        "id": "9KVmqtPfDgy1",
        "colab": {
          "base_uri": "https://localhost:8080/"
        },
        "outputId": "18c63d5e-bf4b-4f28-905c-904fb55ee0e8"
      },
      "execution_count": null,
      "outputs": [
        {
          "output_type": "stream",
          "name": "stdout",
          "text": [
            "[-1.  0.  1.  1. -1.]\n",
            "[-2.4 -0.4  2.6  1.6 -1.4]\n",
            "a_centered_sp =  2.0\n"
          ]
        }
      ]
    },
    {
      "cell_type": "markdown",
      "source": [
        "Задание 4**\n",
        "\n",
        "Число, которое мы получили в конце задания 3 является ковариацией двух признаков, содержащихся в массиве “а”. В задании 4 мы делили сумму произведений центрированных признаков на N-1, а не на N, поэтому полученная нами величина является несмещенной оценкой ковариации.\n",
        "\n",
        "В этом задании проверьте получившееся число, вычислив ковариацию еще одним способом - с помощью функции np.cov. В качестве аргумента m функция np.cov должна принимать транспонированный массив “a”. В получившейся ковариационной матрице (массив Numpy размером 2x2) искомое значение ковариации будет равно элементу в строке с индексом 0 и столбце с индексом 1.\n"
      ],
      "metadata": {
        "id": "CROEAbX4DhWR"
      }
    },
    {
      "cell_type": "code",
      "source": [
        "x = np.cov(a_centered.transpose())\n",
        "print(\"cov matrix = \\n\", x)\n",
        "print(\"Covariation value = \", x[0,1])"
      ],
      "metadata": {
        "id": "jfbpjvlXDsWi",
        "colab": {
          "base_uri": "https://localhost:8080/"
        },
        "outputId": "c10089e4-8781-4b49-bfdf-a16b8013514b"
      },
      "execution_count": null,
      "outputs": [
        {
          "output_type": "stream",
          "name": "stdout",
          "text": [
            "cov matrix = \n",
            " [[1.  2. ]\n",
            " [2.  4.3]]\n",
            "Covariation value =  2.0\n"
          ]
        }
      ]
    }
  ]
}